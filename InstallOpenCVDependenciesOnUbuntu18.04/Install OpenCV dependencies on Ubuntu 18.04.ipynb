{
 "cells": [
  {
   "cell_type": "markdown",
   "metadata": {},
   "source": [
    "# Step #1: Install OpenCV dependencies on Ubuntu 18.04"
   ]
  },
  {
   "cell_type": "markdown",
   "metadata": {},
   "source": [
    "All steps today will be accomplished in the terminal/command line. Before we begin, open a terminal or\n",
    "connect via SSH.<br/>\n",
    "From there, we need to refresh/upgrade the pre-installed packages/libraries with the apt-get package\n",
    "manager:"
   ]
  },
  {
   "cell_type": "markdown",
   "metadata": {},
   "source": [
    "<b>`$ sudo apt-get update`</b><br/>\n",
    "<b>`$ sudo apt-get upgrade`</b><br/>"
   ]
  },
  {
   "cell_type": "markdown",
   "metadata": {},
   "source": [
    "Followed by installing developer tools:"
   ]
  },
  {
   "cell_type": "markdown",
   "metadata": {},
   "source": [
    "<b>`$ sudo apt-get install build-essential cmake unzip pkg-config`</b><br/><br/>\n",
    "You most likely already have installed `pkg-config` on Ubuntu 18.04, but be sure to include it in the\n",
    "install command for sanity."
   ]
  },
  {
   "cell_type": "markdown",
   "metadata": {},
   "source": [
    "Next, we need to install some OpenCV-specific prerequisites. OpenCV is an image processing/computer vision library and therefore it needs to be able to load standard image file formats such as JPEG, PNG, TIFF, etc. The following image I/O packages will allow OpenCV to work with image files:"
   ]
  },
  {
   "cell_type": "markdown",
   "metadata": {},
   "source": [
    "<b>`$ sudo apt-get install libjpeg-dev libpng-dev libtiff-dev`</b><br/>"
   ]
  },
  {
   "cell_type": "markdown",
   "metadata": {},
   "source": [
    "Similarly, let’s include video I/O packages as we often work with video on the PyImageSearch blog. You’ll need the following packages so you can work with your camera stream and process video files:"
   ]
  },
  {
   "cell_type": "markdown",
   "metadata": {},
   "source": [
    "<b>`$ sudo apt-get install libavcodec-dev libavformat-dev libswscale-dev libv4l-dev`</b><br/>\n",
    "<b>`$ sudo apt-get install libxvidcore-dev libx264-dev`</b><br/>"
   ]
  },
  {
   "cell_type": "markdown",
   "metadata": {},
   "source": [
    "OpenCV’s highgui module relies on the GTK library for GUI operations. The highgui module will allow you to create elementary GUIs which display images, handle kepresses/mouse clicks, and create sliders and trackbars. Advanced GUIs should be built with TK, Wx, or QT. See this <a href=\"https://www.pyimagesearch.com/2016/05/30/displaying-a-video-feed-with-opencv-and-tkinter/\">blog post</a> to learn how to make an OpenCV GUI with TK.\n"
   ]
  },
  {
   "cell_type": "markdown",
   "metadata": {},
   "source": [
    "Let’s install GTK:<br/>\n",
    "<b>`$ sudo apt-get install libgtk-3-dev`</b><br/>"
   ]
  },
  {
   "cell_type": "markdown",
   "metadata": {},
   "source": [
    "I always recommend the following two libraries which will optimize various OpenCV functions:<br/>\n",
    "<b>`$ sudo apt-get install libatlas-base-dev`</b><br/>\n",
    "<b>`$ sudo apt-get install gfortran`</b><br/>"
   ]
  },
  {
   "cell_type": "markdown",
   "metadata": {},
   "source": [
    "And finally, our last requirement is to install Python 3 headers and libraries:<br/>\n",
    "<b>`$ sudo apt-get install python3-dev`</b><br/>"
   ]
  },
  {
   "cell_type": "markdown",
   "metadata": {},
   "source": [
    "# Step #2: Download the official OpenCV source"
   ]
  },
  {
   "cell_type": "markdown",
   "metadata": {},
   "source": [
    "Lets download the opencv 3.4.2 version in the home directory."
   ]
  },
  {
   "cell_type": "markdown",
   "metadata": {},
   "source": [
    "<b>`$ cd ~`</b><br/>\n",
    "<b>`$ wget -O opencv.zip https://github.com/opencv/opencv/archive/3.4.2.zip`</b><br/>"
   ]
  },
  {
   "cell_type": "markdown",
   "metadata": {},
   "source": [
    "Followed by the opencv_contrib  module:\n",
    "<br/><b>`\t\n",
    "$ wget -O opencv_contrib.zip https://github.com/opencv/opencv_contrib/archive/3.4.2.zip`</b><br/>"
   ]
  },
  {
   "cell_type": "markdown",
   "metadata": {},
   "source": [
    "Now, let’s unzip the archives:\n",
    "<br/><b>`$ unzip opencv.zip`</b><br/>\n",
    "<b>`$ unzip opencv_contrib.zip`</b><br/>"
   ]
  },
  {
   "cell_type": "markdown",
   "metadata": {},
   "source": [
    "Now check whether unzip successfull?\n",
    "<br/><b>`$ ls -l`</b><br/>"
   ]
  },
  {
   "cell_type": "markdown",
   "metadata": {},
   "source": [
    "# Step #3: Configure your Python 3 environment"
   ]
  },
  {
   "cell_type": "markdown",
   "metadata": {},
   "source": [
    "The first step we’re taking to configure our Python 3 development environment is to install pip, a Python Package Manager.\n",
    "\n",
    "To install pip, simply enter the following in your terminal:\n",
    "<br/><b>`$ wget https://bootstrap.pypa.io/get-pip.py`</b><br/>\n",
    "<b>`$ sudo python3 get-pip.py`</b><br/>"
   ]
  },
  {
   "cell_type": "markdown",
   "metadata": {},
   "source": [
    "**Making use of virtual environments for Python development**<br/>\n",
    "If you are familiar with my blog and install guides therein, the following statement might make me sound like a broken record but I’ll repeat it anyway:\n",
    "\n",
    "I use both virtualenv and virtualenvwrapper daily and you should too unless you have a very specific reason not to. These two Python packages facilitate creating independent Python environments for your projects.\n",
    "\n",
    "**It is a best practice to use virtual environments.**<br/>\n",
    "\n",
    "Why?\n",
    "\n",
    "Virtual environments allow you to work on your projects in isolation without spinning up resource hogs such as VMs and Docker images (I definitely do use both VirtualBox and Docker — they have their place).\n",
    "\n",
    "For example, maybe you have a Python + OpenCV project that requires an older version of scikit-learn (v0.14) but you want to keep using the latest version of scikit-learn (0.19) for all of your newer projects.\n",
    "\n",
    "Using virtual environments, you could handle these two software version dependencies separately, something that is not possible using just the system install of Python.\n",
    "\n",
    "If you would like more information about Python virtual environments take a look at this article on RealPython or read the first half of the this blog post on PyImageSearch.\n",
    "\n",
    "Let’s go ahead and install `virtualenv`  and `virtualenvwrapper`  now:\n",
    "<br/><b>`$ sudo -H pip install virtualenv`</b><br/>\n",
    "<b>`$ sudo -H pip install virtualenvwrapper`</b><br/>\n",
    "<b>`$ sudo rm -rf ~/get-pip.py ~/.cache/pip`</b><br/>"
   ]
  },
  {
   "cell_type": "markdown",
   "metadata": {},
   "source": [
    "### To finish the install we need to update our  ~/.bashrc  file"
   ]
  },
  {
   "cell_type": "markdown",
   "metadata": {},
   "source": [
    "We have to add following line inside our .bashrc file.\n",
    "<br/><b>`$ echo -e \"\\n# virtualenv and virtualenvwrapper\" >> ~/.bashrc`</b><br/>\n",
    "<b>`$ echo \"export WORKON_HOME=$HOME/.virtualenvs\" >> ~/.bashrc`</b><br/>\n",
    "<b>`$ echo \"export VIRTUALENVWRAPPER_PYTHON=/usr/bin/python3\" >> ~/.bashrc`</b><br/>\n",
    "<b>`$ echo \"source /usr/local/bin/virtualenvwrapper.sh\" >> ~/.bashrc`</b><br/>"
   ]
  },
  {
   "cell_type": "markdown",
   "metadata": {},
   "source": [
    "Next, source the `~/.bashrc`  file:\n",
    "<br/><b>`$ source ~/.bashrc`</b><br/>"
   ]
  },
  {
   "cell_type": "markdown",
   "metadata": {},
   "source": [
    "### Creating a virtual environment to hold OpenCV and additional packages\n",
    "\n",
    "<br/><b>`$ mkvirtualenv cv -p python3`</b><br/>\n",
    "This above line simply creates a Python 3 virtual environment named `cv` . "
   ]
  },
  {
   "cell_type": "markdown",
   "metadata": {},
   "source": [
    "Let’s verify that we’re in the cv environment by using the workon command:\n",
    "<br/><b>`$ workon cv`</b><br/>"
   ]
  },
  {
   "cell_type": "markdown",
   "metadata": {},
   "source": [
    "Install NumPy in your environment\n",
    "<br/><b>`$ pip install numpy`</b><br/>"
   ]
  },
  {
   "cell_type": "markdown",
   "metadata": {},
   "source": [
    "Lets see how many python package are installed in our `cv` virtual environment.\n",
    "<br/><b>`$ pip list`</b><br/>"
   ]
  },
  {
   "cell_type": "markdown",
   "metadata": {},
   "source": [
    "# Step #4: Configure and compile OpenCV for Ubuntu 18.04"
   ]
  },
  {
   "cell_type": "markdown",
   "metadata": {},
   "source": [
    "Before we begin though, let’s ensure that we’re in the cv virtual environment:\n",
    "<br/><b>`$ workon cv`</b><br/>\n",
    "It is very important that the virtual environment is active (you are “inside” the virtual environment) which is why I keep reiterating it. If you are not in the cv  Python virtual environment before moving on to the next step your build files will not be generated properly."
   ]
  },
  {
   "cell_type": "markdown",
   "metadata": {},
   "source": [
    "### Configure OpenCV with CMake"
   ]
  },
  {
   "cell_type": "markdown",
   "metadata": {},
   "source": [
    "Let’s set up our OpenCV build using `cmake` :\n",
    "<br/><b>`$ cd ~/opencv-3.4.2/`</b><br/>\n",
    "<b>`$ mkdir build`</b><br/>\n",
    "<b>`$ cd build`</b><br/>\n",
    "<b>`$ cmake -D CMAKE_BUILD_TYPE=RELEASE \\\n",
    "\t-D CMAKE_INSTALL_PREFIX=/usr/local \\\n",
    "\t-D INSTALL_PYTHON_EXAMPLES=ON \\\n",
    "\t-D INSTALL_C_EXAMPLES=OFF \\\n",
    "\t-D OPENCV_EXTRA_MODULES_PATH=~/opencv_contrib-3.4.2/modules \\\n",
    "\t-D PYTHON_EXECUTABLE=~/.virtualenvs/cv/bin/python \\\n",
    "\t-D BUILD_EXAMPLES=ON ..`</b><br/>"
   ]
  },
  {
   "cell_type": "markdown",
   "metadata": {},
   "source": [
    "I always recommend that you scroll through the CMake output and check to see if anything looks out of the ordinary. You won’t see a “YES” marked next to every setting — that is normal. Be sure you don’t see any errors or your compile may fail (warnings are okay)."
   ]
  },
  {
   "cell_type": "markdown",
   "metadata": {},
   "source": [
    "**Note:** If you are encountering problems related to stdlib.h: No such file or directory  during either the cmake  or make  phase of this tutorial you’ll also need to include the following option to CMake:   -D ENABLE_PRECOMPILED_HEADERS=OFF . In this case I would suggest deleting your build directory, re-creating it, and then re-running cmake  with the above option included. This will resolve the stdlib.h  error."
   ]
  },
  {
   "cell_type": "markdown",
   "metadata": {},
   "source": [
    "### Compiling OpenCV on Ubuntu 18.04"
   ]
  },
  {
   "cell_type": "markdown",
   "metadata": {},
   "source": [
    "Let’s compile OpenCV using make .\n",
    "\n",
    "Depending on the number of processors/cores, you may be able to reduce compile time by altering the flag in the command. My computer has 4 cores, so I am using the -j4  flag. You can update the numeral or leave the flag off altogether:\n",
    "<br/><b>`$ make -j4`</b><br/>\n",
    "To see number of cores in linux machine, run below command:\n",
    "<br/><b>`$ lscpu`</b><br/>\n",
    "This process may take 30 minutes or longer, so go for a nice walk if you are able.\n",
    "\n",
    "If your compile chokes and hangs, it may be due to a threading race condition. In the event you run into this problem, simply delete your `build`  directory, recreate it, and re-run `cmake`  and `make` . This time do not include the flag next to `make` .\n"
   ]
  },
  {
   "cell_type": "markdown",
   "metadata": {},
   "source": [
    "### Installing and verifying OpenCV"
   ]
  },
  {
   "cell_type": "markdown",
   "metadata": {},
   "source": [
    "Upon a successful, 100% complete compile you can now install OpenCV:\n",
    "<br/><b>`$ sudo make install`</b><br/>\n",
    "<b>`$ sudo ldconfig`</b><br/>"
   ]
  },
  {
   "cell_type": "markdown",
   "metadata": {},
   "source": [
    "To verify the install, sometimes I like to enter the following command in the terminal:\n",
    "<br/><b>`$ pkg-config --modversion opencv`</b><br/>"
   ]
  },
  {
   "cell_type": "markdown",
   "metadata": {},
   "source": [
    "# Step #5: Finish your Python+ OpenCV + Ubuntu 18.04 install"
   ]
  },
  {
   "cell_type": "markdown",
   "metadata": {},
   "source": [
    "We’ve reached the last lap of the race so stick with it.\n",
    "\n",
    "At this point, your Python 3 bindings for OpenCV should reside in the following folder:\n",
    "<br/><b>`$ ls /usr/local/lib/python3.6/site-packages/`</b><br/>"
   ]
  },
  {
   "cell_type": "markdown",
   "metadata": {},
   "source": [
    "Let’s rename them to simply cv2.so :\n",
    "<br/><b>`$ cd /usr/local/lib/python3.6/site-packages/`</b><br/>\n",
    "<b>`$ sudo mv cv2.cpython-36m-x86_64-linux-gnu.so cv2.so`</b><br/>"
   ]
  },
  {
   "cell_type": "markdown",
   "metadata": {},
   "source": [
    "Our last step is to sym-link our OpenCV cv2.so  bindings into our cv  virtual environment:\n",
    "<br/><b>`$ cd ~/.virtualenvs/cv/lib/python3.6/site-packages/`</b><br/>\n",
    "<b>`$ ln -s /usr/local/lib/python3.6/site-packages/cv2.so cv2.so`</b><br/>"
   ]
  },
  {
   "cell_type": "markdown",
   "metadata": {},
   "source": [
    "# Step #6: Testing your OpenCV install on Ubuntu 18.04"
   ]
  },
  {
   "cell_type": "markdown",
   "metadata": {},
   "source": [
    "<br/><b>`$ cd ~`</b>\n",
    "<br/><b>`$ workon cv`</b>\n",
    "<br/><b>`$ python`</b>\n",
    "<br/><b>`>>> import cv2`</b>\n",
    "<br/><b>`>>> cv2.__version__`</b>\n",
    "<br/><b>`>>> quit()`</b>"
   ]
  },
  {
   "cell_type": "markdown",
   "metadata": {},
   "source": [
    "### Optionally, at this point, you can safely delete the zips and directories in your home folder:"
   ]
  },
  {
   "cell_type": "markdown",
   "metadata": {},
   "source": [
    "<b>`$ cd ~`</b>\n",
    "<br/><b>`$ rm opencv.zip opencv_contrib.zip`</b>\n",
    "<br/><b>`$ rm -rf opencv-3.4.2 opencv_contrib-3.4.2`</b><br/>"
   ]
  },
  {
   "cell_type": "code",
   "execution_count": null,
   "metadata": {},
   "outputs": [],
   "source": [
    "<br/><b>``</b><br/>"
   ]
  }
 ],
 "metadata": {
  "kernelspec": {
   "display_name": "Python 3",
   "language": "python",
   "name": "python3"
  },
  "language_info": {
   "codemirror_mode": {
    "name": "ipython",
    "version": 3
   },
   "file_extension": ".py",
   "mimetype": "text/x-python",
   "name": "python",
   "nbconvert_exporter": "python",
   "pygments_lexer": "ipython3",
   "version": "3.7.0"
  }
 },
 "nbformat": 4,
 "nbformat_minor": 2
}
