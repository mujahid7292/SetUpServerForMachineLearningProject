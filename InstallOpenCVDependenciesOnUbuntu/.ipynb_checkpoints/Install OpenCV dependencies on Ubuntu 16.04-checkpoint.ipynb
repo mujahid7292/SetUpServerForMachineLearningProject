{
 "cells": [
  {
   "cell_type": "markdown",
   "metadata": {},
   "source": [
    "# Step #1: Install OpenCV dependencies on Ubuntu 16.04"
   ]
  },
  {
   "cell_type": "markdown",
   "metadata": {},
   "source": [
    "All steps today will be accomplished in the terminal/command line. Before we begin, open a terminal or\n",
    "connect via SSH.<br/>\n",
    "From there, we need to refresh/upgrade the pre-installed packages/libraries with the apt-get package\n",
    "manager:"
   ]
  },
  {
   "cell_type": "markdown",
   "metadata": {},
   "source": [
    "<b>`$ sudo apt-get update`</b>\n",
    "\n",
    "<b>`$ sudo apt-get upgrade`</b>"
   ]
  },
  {
   "cell_type": "markdown",
   "metadata": {},
   "source": [
    "Followed by installing developer tools:\n",
    "<br/><b>`$ sudo apt-get install build-essential cmake unzip pkg-config`</b><br/>\n",
    "You most likely already have installed `pkg-config` on Ubuntu 18.04, but be sure to include it in the\n",
    "install command for sanity."
   ]
  },
  {
   "cell_type": "markdown",
   "metadata": {},
   "source": [
    "OpenCV is an image processing and computer vision library. Therefore, OpenCV needs to be able to load various image file formats from disk such as JPEG, PNG, TIFF, etc. In order to load these images from disk, OpenCV actually calls other image I/O libraries that actually facilitate the loading and decoding process. We install the necessary ones below:\n",
    "<br/><b>`$ sudo apt-get install libjpeg8-dev libtiff5-dev libjasper-dev libpng12-dev`</b><br/>"
   ]
  },
  {
   "cell_type": "markdown",
   "metadata": {},
   "source": [
    "Okay, so now we have libraries to load images from disk — but what about video? Use the following commands to install packages used to process video streams and access frames from cameras:\n",
    "\n",
    "<b>`$ sudo apt-get install libavcodec-dev libavformat-dev libswscale-dev libv4l-dev`</b><br/>\n",
    "<br/><b>`$ sudo apt-get install libxvidcore-dev libx264-dev`</b><br/>"
   ]
  },
  {
   "cell_type": "markdown",
   "metadata": {},
   "source": [
    "Internally, the name of the module that handles OpenCV GUI operations is highgui . The highgui  module relies on the GTK library, which you should install using the following command:\n",
    "\n",
    "<b>`$ sudo apt-get install libgtk2.0-dev`</b><br/>"
   ]
  },
  {
   "cell_type": "markdown",
   "metadata": {},
   "source": [
    "Next, we install libraries that are used to optimize various functionalities inside OpenCV, such as matrix operations:\n",
    "\n",
    "<b>`$ sudo apt-get install libatlas-base-dev gfortran`</b><br/>"
   ]
  },
  {
   "cell_type": "markdown",
   "metadata": {},
   "source": [
    "We’ll wrap up Step #1 by installing the Python development headers and libraries for both Python 2.7 and Python 3.5 (that way you have both):\n",
    "\n",
    "<b>`$ sudo apt-get install python2.7-dev python3.5-dev`</b><br/>"
   ]
  },
  {
   "cell_type": "markdown",
   "metadata": {},
   "source": [
    "# Step #2: Download the OpenCV source"
   ]
  },
  {
   "cell_type": "markdown",
   "metadata": {},
   "source": [
    "Lets download the opencv 3.4.4 version in the home directory."
   ]
  },
  {
   "cell_type": "markdown",
   "metadata": {},
   "source": [
    "<b>`$ cd ~`</b>\n",
    "\n",
    "<b>`$ wget -O opencv.zip https://github.com/opencv/opencv/archive/3.4.4.zip`</b>"
   ]
  },
  {
   "cell_type": "markdown",
   "metadata": {},
   "source": [
    "Followed by the opencv_contrib  module:\n",
    "<br/><b>`\t\n",
    "$ wget -O opencv_contrib.zip https://github.com/opencv/opencv_contrib/archive/3.4.4.zip`</b><br/>"
   ]
  },
  {
   "cell_type": "markdown",
   "metadata": {},
   "source": [
    "Now, let’s unzip the archives:\n",
    "<br/><b>`$ unzip opencv.zip`</b>\n",
    "\n",
    "<b>`$ unzip opencv_contrib.zip`</b>"
   ]
  },
  {
   "cell_type": "markdown",
   "metadata": {},
   "source": [
    "Now check whether unzip successfull?\n",
    "<br/><b>`$ ls -l`</b><br/>"
   ]
  },
  {
   "cell_type": "markdown",
   "metadata": {},
   "source": [
    "# Step #3: Setup your Python3 environment"
   ]
  },
  {
   "cell_type": "markdown",
   "metadata": {},
   "source": [
    "We are now ready to start configuring our Python development environment for the build. The first step is to install pip , a Python package manager:\n",
    "\n",
    "<b>`$ cd ~`</b><br/>\n",
    "<br/><b>`$ wget https://bootstrap.pypa.io/get-pip.py`</b><br/>\n",
    "<br/><b>`$ sudo python get-pip.py`</b><br/>"
   ]
  },
  {
   "cell_type": "markdown",
   "metadata": {},
   "source": [
    "Let’s go ahead and install `virtualenv`  and `virtualenvwrapper`  now:\n",
    "\n",
    "<b>`$ sudo apt-get install python3-pip`</b>\n",
    "\n",
    "<b>`$ sudo pip3 install virtualenv virtualenvwrapper`</b><br/>\n",
    "\n",
    "<b>`$ sudo rm -rf ~/get-pip.py ~/.cache/pip`</b>"
   ]
  },
  {
   "cell_type": "markdown",
   "metadata": {},
   "source": [
    "Once we have virtualenv  and virtualenvwrapper  installed, we need to update our ~/.bashrc  file to include the following lines at the bottom of the file:\n",
    "\n",
    "<br/><b>`$ echo -e \"\\n# virtualenv and virtualenvwrapper\" >> ~/.bashrc`</b>\n",
    "\n",
    "<b>`$ echo \"export WORKON_HOME=$HOME/.virtualenvs\" >> ~/.bashrc`</b>\n",
    "\n",
    "<b>`$ echo \"source /usr/local/bin/virtualenvwrapper.sh\" >> ~/.bashrc`</b>\n",
    "\n",
    "<b>`$ source .bashrc `</b><br/>\n",
    "\n",
    "If Python could not import the module virtualenvwrapper.hook_loader,\n",
    "check that virtualenvwrapper has been installed for\n",
    "VIRTUALENVWRAPPER_PYTHON=/usr/bin/python and that PATH is\n",
    "set properly.\n"
   ]
  },
  {
   "cell_type": "markdown",
   "metadata": {},
   "source": [
    "Creating your Python virtual environment:\n",
    "\n",
    "<b>`$ mkvirtualenv cv -p python3`</b><br/>"
   ]
  },
  {
   "cell_type": "markdown",
   "metadata": {},
   "source": [
    "Install Numpy inside your virtual environment:\n",
    "\n",
    "<b>`$ pip install numpy`</b><br/>\n",
    "\n",
    "To see number of package installed in our `cv` virtual environment run:\n",
    "\n",
    "<b>`$ pip list`</b><br/>"
   ]
  },
  {
   "cell_type": "markdown",
   "metadata": {},
   "source": [
    "# Step #4: Configuring and compiling OpenCV on Ubuntu 16.04"
   ]
  },
  {
   "cell_type": "markdown",
   "metadata": {},
   "source": [
    "At this point, all of our necessary prerequisites have been installed — we are now ready to compile and OpenCV! But before we do that, double-check that you are in the cv  virtual environment by examining your prompt (you should see the (cv)  text preceding it), and if not, use the workon  command:\n",
    "\n",
    "<b>`$ workon cv`</b><br/>"
   ]
  },
  {
   "cell_type": "markdown",
   "metadata": {},
   "source": [
    "After ensuring you are in the cv  virtual environment, we can setup and configure our build using CMake:\n",
    "\n",
    "<b>`$ cd ~/opencv-3.4.4/`</b>\n",
    "\n",
    "<b>`$ mkdir build`</b>\n",
    "\n",
    "<b>`$ cd build`</b>\n",
    "\n",
    "<b>`$ cmake -D CMAKE_BUILD_TYPE=RELEASE \\\n",
    "\t-D CMAKE_INSTALL_PREFIX=/usr/local \\\n",
    "\t-D INSTALL_PYTHON_EXAMPLES=ON \\\n",
    "\t-D INSTALL_C_EXAMPLES=OFF \\\n",
    "\t-D OPENCV_EXTRA_MODULES_PATH=~/opencv_contrib-3.4.4/modules \\\n",
    "\t-D PYTHON_EXECUTABLE=~/.virtualenvs/cv/bin/python \\\n",
    "\t-D BUILD_EXAMPLES=ON ..`</b>"
   ]
  },
  {
   "cell_type": "markdown",
   "metadata": {},
   "source": [
    "I always recommend that you scroll through the CMake output and check to see if anything looks out of the ordinary. You won’t see a “YES” marked next to every setting — that is normal. Be sure you don’t see any errors or your compile may fail (warnings are okay)."
   ]
  },
  {
   "cell_type": "markdown",
   "metadata": {},
   "source": [
    "Note: If you are getting an error related to stdlib.h: No such file or directory during either the cmake  or make  phase of this tutorial you’ll also need to include the following option to CMake: -D ENABLE_PRECOMPILED_HEADERS=OFF . In this case I would suggest deleting your build  directory, re-creating it, and then re-running CMake with the above option included. This will resolve the stdlib.h  error."
   ]
  },
  {
   "cell_type": "markdown",
   "metadata": {},
   "source": [
    "Assuming your CMake command exited without any errors, you can now compile OpenCV:\n",
    "\n",
    "<b>`$ make -j4`</b><br/>\n",
    "\n",
    "The -j  switch controls the number of processes to be used when compiling OpenCV — you’ll want to set this value to the number of processors/cores on your machine. In my case, I have a quad-core processor, so I set -j4 .\n",
    "\n",
    "Using multiple processes allows OpenCV to compile faster; however, there are times where race conditions are hit and the compile bombs out. While you can’t really tell if this is the case without a lot of previous experience compiling OpenCV, if you do run into an error, my first suggestion would be to run make clean  to flush the build, followed by compiling using only a single core:"
   ]
  },
  {
   "cell_type": "markdown",
   "metadata": {},
   "source": [
    "The last step is to actually install OpenCV 3 on Ubuntu 16.04:\n",
    "\n",
    "<b>`$ sudo make install`</b><br/>\n",
    "\n",
    "<b>`$ sudo ldconfig`</b><br/>"
   ]
  },
  {
   "cell_type": "markdown",
   "metadata": {},
   "source": [
    "# Step #5: Finish your OpenCV install"
   ]
  },
  {
   "cell_type": "markdown",
   "metadata": {},
   "source": [
    "After running sudo make install , your OpenCV + Python 3 bindings should be located in /usr/local/lib/python3.5/site-packages/ . Again, you can verify this using the ls  command:\n",
    "\n",
    "<b>`$ ls -l /usr/local/lib/python3.5/site-packages/`</b><br/>\n",
    "return:total 5476<br/>\n",
    "-rw-r--r-- 1 root root 5604176 Dec 22 12:12 cv2.cpython-35m-x86_64-linux-gnu.so\n",
    "\n",
    "\n",
    "but some times it may be in the following folder:\n",
    "\n",
    "<b>`$ls -l /usr/local/python/cv2/python-3.5/`</b><br/>\n",
    "return:total 5476<br/>\n",
    "-rw-r--r-- 1 root root 5604176 Dec 22 12:12 cv2.cpython-35m-x86_64-linux-gnu.so\n"
   ]
  },
  {
   "cell_type": "markdown",
   "metadata": {},
   "source": [
    "Now lets rename `cv2.cpython-35m-x86_64-linux-gnu.so` this file to `cv2`. First cd to that files directory:\n",
    "\n",
    "<b>`$ cd /usr/local/lib/python3.5/site-packages/`</b><br/>\n",
    "\n",
    "OR\n",
    "\n",
    "<b>`$ cd /usr/local/python/cv2/python-3.5/`</b><br/>\n",
    "\n",
    "Now rename the file:\n",
    "\n",
    "<b>`$ sudo mv cv2.cpython-35m-x86_64-linux-gnu.so cv2.so`</b><br/>"
   ]
  },
  {
   "cell_type": "markdown",
   "metadata": {},
   "source": [
    "After renaming cv2.cpython-35m-x86_64-linux-gnu.so  to simply cv2.so , we can sym-link our OpenCV bindings into the cv  virtual environment for Python 3.5:\n",
    "\n",
    "<b>`$ cd ~/.virtualenvs/cv/lib/python3.5/site-packages/`</b><br/>\n",
    "\n",
    "<b>`$ ln -s /usr/local/lib/python3.5/site-packages/cv2.so cv2.so`</b><br/>"
   ]
  },
  {
   "cell_type": "code",
   "execution_count": null,
   "metadata": {},
   "outputs": [],
   "source": []
  },
  {
   "cell_type": "code",
   "execution_count": null,
   "metadata": {},
   "outputs": [],
   "source": [
    "<b>`$ `</b><br/>\n",
    "<br/><b>`$ `</b><br/>"
   ]
  }
 ],
 "metadata": {
  "kernelspec": {
   "display_name": "Python 3",
   "language": "python",
   "name": "python3"
  },
  "language_info": {
   "codemirror_mode": {
    "name": "ipython",
    "version": 3
   },
   "file_extension": ".py",
   "mimetype": "text/x-python",
   "name": "python",
   "nbconvert_exporter": "python",
   "pygments_lexer": "ipython3",
   "version": "3.7.0"
  }
 },
 "nbformat": 4,
 "nbformat_minor": 2
}
