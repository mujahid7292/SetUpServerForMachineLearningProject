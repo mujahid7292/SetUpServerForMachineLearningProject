{
 "cells": [
  {
   "cell_type": "markdown",
   "metadata": {},
   "source": [
    "# Download Docker Tool Box For Windows 10 Home Edition"
   ]
  },
  {
   "cell_type": "markdown",
   "metadata": {},
   "source": [
    "Link for downloading docker ToolBox is <a href=\"https://docs.docker.com/toolbox/overview/\">Here</a>"
   ]
  },
  {
   "cell_type": "markdown",
   "metadata": {},
   "source": [
    "To see whether docker set up was successfull or not, go to Docker Quick Start Terminal & run \n",
    "<br/><b>`$ docker`</b><br/>\n",
    "\n",
    "To see the docker version run\n",
    "<br/><b>`$ docker version`</b><br/>\n",
    "\n",
    "To see the number of container, container status in your system run\n",
    "<br/><b>`$ docker info`</b><br/>"
   ]
  },
  {
   "cell_type": "markdown",
   "metadata": {},
   "source": [
    "# Create A Nginx Container"
   ]
  },
  {
   "cell_type": "markdown",
   "metadata": {},
   "source": [
    "Nginx is a very common web server, similar to apachie. Lets create a Nginx server:"
   ]
  },
  {
   "cell_type": "markdown",
   "metadata": {},
   "source": [
    "<br/><b>`$ docker container run -it -p 80:80 nginx`</b><br/>\n",
    "it = Run In Interactive Mode. That means run in foreground rather than background<br/>\n",
    "p = Publish<br/>\n",
    "80 = This is the first port which we will use in our local machine (Windows 10)<br/>\n",
    "80 = This is second port. This is exposed from container. As Nginx's default port is 80, so we have used 80 as our second port.\n",
    "nginx = Name of the image which we want to run in our container.<br/>"
   ]
  },
  {
   "cell_type": "markdown",
   "metadata": {},
   "source": [
    "Now go to chrome browser & go to this address:\n",
    "<br/><b>`http://192.168.99.100:80/`</b><br/>\n",
    "Most of the time, it will be `192.168.99.100` In case this isn't working, you can always try below command to find the IP address.\n",
    "<br/><b>`$ docker-machine ip default`</b><br/>"
   ]
  },
  {
   "cell_type": "markdown",
   "metadata": {},
   "source": [
    "To See the list of our running container, run\n",
    "<br/><b>`$ docker container ls`</b><br/>"
   ]
  },
  {
   "cell_type": "markdown",
   "metadata": {},
   "source": [
    "To See the list of all of the container in our system, run\n",
    "<br/><b>`$ docker container ls -a`</b><br/>"
   ]
  },
  {
   "cell_type": "markdown",
   "metadata": {},
   "source": [
    "Now we will delete our Nginx container\n",
    "<br/><b>`$ docker container rm 56ea`</b><br/>\n",
    "rm = Permanently remove. <br/>\n",
    "56ea = First four digit of nginx container id. This id we will get from above command.Br/>"
   ]
  },
  {
   "cell_type": "markdown",
   "metadata": {},
   "source": [
    "To see the abailable docker image in our machine. run\n",
    "<br/><b>`$ docker images`</b><br/>\n",
    "Though we have deleted the nginx container from our machine, we will see nginx image in our machine after this above command. So in future docker will not pull nginx image from docker hub."
   ]
  },
  {
   "cell_type": "markdown",
   "metadata": {},
   "source": [
    "If we want, we can remove docker image from our system by running following command.\n",
    "<br/><b>`$ docker image rm 568c`</b><br/>\n",
    "568c = Is the image Id of nginx container.<br/>"
   ]
  },
  {
   "cell_type": "markdown",
   "metadata": {},
   "source": [
    "We could also pull this `nginx` image from docker hub:\n",
    "<br/><b>`$ docker pull nginx`</b><br/>"
   ]
  },
  {
   "cell_type": "markdown",
   "metadata": {},
   "source": [
    "Now we will run `nginx` in the background mode:\n",
    "<br/><b>`$ docker container run -d -p 8080:80 --name my_nginx nginx`</b><br/>\n",
    "d = Run container in detach (Background) mode.<br/>\n",
    "p = Publish<br/>\n",
    "8080 = This is the first port which we will use in our local machine (Windows 10)<br/>\n",
    "80 = This is second port. This is exposed from container. As Nginx's default port is 80, so we have used 80 as our second port.\n",
    "name my_nginx = Here container name is \"my_nginx\".<br/>\n",
    "nginx = Name of the image which we want to run in our container.<br/>"
   ]
  },
  {
   "cell_type": "markdown",
   "metadata": {},
   "source": [
    "Now go to chrome browser & go to this address:\n",
    "<br/><b>`http://192.168.99.100:8080/`</b><br/>"
   ]
  },
  {
   "cell_type": "markdown",
   "metadata": {},
   "source": [
    "# Create An Apache Container"
   ]
  },
  {
   "cell_type": "markdown",
   "metadata": {},
   "source": [
    "Now we will run `apache` in the background mode:\n",
    "<br/><b>`$ docker container run -d -p 8081:80 --name my_apache httpd`</b><br/>\n",
    "d = Run container in detach (Background) mode.<br/>\n",
    "p = Publish<br/>\n",
    "8081 = This is the first port which we will use in our local machine (Windows 10). We use 8081 port, because we already running our `nginx` server on port 8080<br/>\n",
    "80 = This is second port. This is exposed from container. As Apache's default port is also 80, so we have used 80 as our second port.\n",
    "name my_apache = Here container name is \"my_apache\".<br/>\n",
    "httpd = Name of the image which we want to run in our container.<br/>"
   ]
  },
  {
   "cell_type": "markdown",
   "metadata": {},
   "source": [
    "To see how many container is currently being running by docker, run:\n",
    "<br/><b>`$ docker container ls`</b> Or<br/>\n",
    "<b>`$ docker ps`</b><br/>"
   ]
  },
  {
   "cell_type": "markdown",
   "metadata": {},
   "source": [
    "# Example of an environment variable"
   ]
  },
  {
   "cell_type": "markdown",
   "metadata": {},
   "source": [
    "Here we will pull `mysql` image from docker hub & we will run this image as a container. At the time of running container we will set `mysql` password through environment variable.\n",
    "\n",
    "<br/><b>`$ docker container run -d -p 3306:3306 --name my_sql --env MYSQL_ROOT_PASSWORD=123456 mysql`</b><br/>\n",
    "d = Run container in detach (Background) mode.<br/>\n",
    "p = Publish<br/>\n",
    "3306 = This is the first port which we will use in our local machine (Windows 10). MySql runs on port 3306<br/>\n",
    "3306 = This is second port. This is exposed from container. MySql runs on port 3306.<br/>\n",
    "name my_sql = Here container name is \"my_sql\".<br/>\n",
    "env = By this we set up our environment variable.<br/>\n",
    "MYSQL_ROOT_PASSWORD = By this we have set up `mysql` root password.<br/>\n",
    "mysql = Name of the image which we want to run in our container.<br/>"
   ]
  },
  {
   "cell_type": "markdown",
   "metadata": {},
   "source": [
    "# Stopping A Container"
   ]
  },
  {
   "cell_type": "markdown",
   "metadata": {},
   "source": [
    "If we want to stop a particular container, say we want to stop `my_sql` container, then we will run:\n",
    "<br/><b>`$ docker stop my_sql`</b><br/>"
   ]
  },
  {
   "cell_type": "markdown",
   "metadata": {},
   "source": [
    "After stopping the `my_sql` container, if we run below code, we will not see `my_sql` container.\n",
    "<br/><b>`$ docker ps`</b><br/>\n",
    "This above command will only show running container in our system."
   ]
  },
  {
   "cell_type": "markdown",
   "metadata": {},
   "source": [
    "If we want to see all the container in our system irrespective of it's status, the run:\n",
    "<br/><b>`$ docker ps -a`</b><br/>\n",
    "Here we will see our `my_sql` container."
   ]
  },
  {
   "cell_type": "code",
   "execution_count": null,
   "metadata": {},
   "outputs": [],
   "source": []
  },
  {
   "cell_type": "code",
   "execution_count": null,
   "metadata": {},
   "outputs": [],
   "source": [
    "<br/><b>`$ docker info`</b><br/>"
   ]
  }
 ],
 "metadata": {
  "kernelspec": {
   "display_name": "Python 3",
   "language": "python",
   "name": "python3"
  },
  "language_info": {
   "codemirror_mode": {
    "name": "ipython",
    "version": 3
   },
   "file_extension": ".py",
   "mimetype": "text/x-python",
   "name": "python",
   "nbconvert_exporter": "python",
   "pygments_lexer": "ipython3",
   "version": "3.7.0"
  }
 },
 "nbformat": 4,
 "nbformat_minor": 2
}
