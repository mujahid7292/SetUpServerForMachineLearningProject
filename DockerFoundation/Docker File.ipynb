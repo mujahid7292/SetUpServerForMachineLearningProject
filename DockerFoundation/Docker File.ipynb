{
 "cells": [
  {
   "cell_type": "markdown",
   "metadata": {},
   "source": [
    "# What is a DockerFile?"
   ]
  },
  {
   "cell_type": "markdown",
   "metadata": {},
   "source": [
    "A docker file is simple text file to buid an image. DockerFile is basically automation of docker image creation."
   ]
  },
  {
   "cell_type": "markdown",
   "metadata": {},
   "source": [
    "# How to create a DockerFile?"
   ]
  },
  {
   "cell_type": "markdown",
   "metadata": {},
   "source": [
    "1. We have to create a file name `DockerFile` in the project folder.\n",
    "2. Now open this `DockerFile` with VS Code.\n",
    "3. We have to provide a base image name. Depending upon this base image our new docker image will be created. So write:\n",
    "    <br/><b>`FROM ubuntu:18.04`</b>\n",
    "4. Put this newly created image maintainer name & emaill address.\n",
    "    <br/><b>`MAINTAINER Saifullah al Mujahid <mujahid7292@gmail.com>`</b>\n",
    "5. Now run some command to build this image:\n",
    "    <br/><b>`RUN apt-get update`</b>\n",
    "6. To run something in the command line:\n",
    "    <br/><b>`CMD [\"echo\",\"Hello World......\"]`</b>\n",
    "    \n",
    "The Difference between `RUN` & `CMD` is that:\n",
    "    1. `RUN` command get executed during the building of image.\n",
    "    2. `CMD` command get executed only when you create a container out of this image."
   ]
  },
  {
   "cell_type": "code",
   "execution_count": null,
   "metadata": {},
   "outputs": [],
   "source": [
    "# Getting base image ubuntu:18.04 from docker hub\n",
    "FROM ubuntu:18.04\n",
    "\n",
    "MAINTAINER Saifullah al Mujahid <mujahid7292@gmail.com>\n",
    "\n",
    "RUN apt-get update\n",
    "\n",
    "CMD [\"echo\",\"Hello World......\"]"
   ]
  },
  {
   "cell_type": "markdown",
   "metadata": {},
   "source": [
    "# How to build image from DockerFile?"
   ]
  },
  {
   "cell_type": "markdown",
   "metadata": {},
   "source": [
    "1. cd to the directory by command line, where you have created your docker file:\n",
    "    <br/><b>`cd D:\\GoogleDrive\\TUTORIALS\\AI Tutorial\\SetUpServerForMachineLearningProject\\DockerFoundation`</b>\n",
    "    \n",
    "2. Now we will build our image. So to build image run:\n",
    "    <br/><b>`docker build -t ml_ubuntu_cpu:01 .`</b>\n",
    "    <br/> -t = This \"t\" flag is used for tagging docker image.\n",
    "    <br/> ml_ubuntu_cpu = Is the docker image name.\n",
    "    <br/> 01 = Image Tag.\n",
    "    <br/> . = Current directory (In this directory there is DockerFile).\n",
    "\n",
    "3. We can see our newly created image by:\n",
    "    <br/><b>`docker images`</b>\n",
    "    \n",
    "4. Now run this image:\n",
    "    <br/><b>`docker run ml_ubuntu_cpu`</b>\n",
    "    <br/>This above command will not work for images which are not in docker hub. To run local image we have to provide image is, so below command will work:\n",
    "    <br/><b>`docker run 367af7b00f60`</b>\n",
    "    <br/>return: \"Hello World\""
   ]
  },
  {
   "cell_type": "code",
   "execution_count": 2,
   "metadata": {
    "collapsed": true
   },
   "outputs": [
    {
     "ename": "SyntaxError",
     "evalue": "invalid syntax (<ipython-input-2-73529e0d3b5c>, line 1)",
     "output_type": "error",
     "traceback": [
      "\u001b[1;36m  File \u001b[1;32m\"<ipython-input-2-73529e0d3b5c>\"\u001b[1;36m, line \u001b[1;32m1\u001b[0m\n\u001b[1;33m    <br/><b>``</b>\u001b[0m\n\u001b[1;37m    ^\u001b[0m\n\u001b[1;31mSyntaxError\u001b[0m\u001b[1;31m:\u001b[0m invalid syntax\n"
     ]
    }
   ],
   "source": [
    "<br/><b>`docker `</b>"
   ]
  },
  {
   "cell_type": "markdown",
   "metadata": {},
   "source": [
    "# Basic Commands"
   ]
  },
  {
   "cell_type": "markdown",
   "metadata": {},
   "source": []
  }
 ],
 "metadata": {
  "kernelspec": {
   "display_name": "Python 3",
   "language": "python",
   "name": "python3"
  },
  "language_info": {
   "codemirror_mode": {
    "name": "ipython",
    "version": 3
   },
   "file_extension": ".py",
   "mimetype": "text/x-python",
   "name": "python",
   "nbconvert_exporter": "python",
   "pygments_lexer": "ipython3",
   "version": "3.7.4"
  }
 },
 "nbformat": 4,
 "nbformat_minor": 2
}
