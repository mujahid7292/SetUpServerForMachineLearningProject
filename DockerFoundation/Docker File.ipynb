{
 "cells": [
  {
   "cell_type": "markdown",
   "metadata": {},
   "source": [
    "# What is a DockerFile?"
   ]
  },
  {
   "cell_type": "markdown",
   "metadata": {},
   "source": [
    "A docker file is simple text file to buid an image. DockerFile is basically automation of docker image creation."
   ]
  },
  {
   "cell_type": "markdown",
   "metadata": {},
   "source": [
    "# How to create a DockerFile?"
   ]
  },
  {
   "cell_type": "markdown",
   "metadata": {},
   "source": [
    "1. We have to create a file name `DockerFile` in the project folder.\n",
    "2. Now open this `DockerFile` with VS Code.\n",
    "3. We have to provide a base image name. Depending upon this base image our new docker image will be created. So write:\n",
    "    <br/><b>`FROM ubuntu:18.04`</b>\n",
    "4. Put this newly created image maintainer name & emaill address.\n",
    "    <br/><b>`MAINTAINER Saifullah al Mujahid <mujahid7292@gmail.com>`</b>\n",
    "5. Now run some command to build this image:\n",
    "    <br/><b>`RUN apt-get update`</b>\n",
    "6. To run something in the command line:\n",
    "    <br/><b>`CMD [\"echo\",\"Hello World......\"]`</b>\n",
    "    \n",
    "The Difference between `RUN` & `CMD` is that:\n",
    "    1. `RUN` command get executed during the building of image.\n",
    "    2. `CMD` command get executed only when you create a container out of this image."
   ]
  },
  {
   "cell_type": "code",
   "execution_count": null,
   "metadata": {},
   "outputs": [],
   "source": [
    "# Getting base image ubuntu:18.04 from docker hub\n",
    "FROM ubuntu:18.04\n",
    "\n",
    "MAINTAINER Saifullah al Mujahid <mujahid7292@gmail.com>\n",
    "\n",
    "RUN apt-get update\n",
    "\n",
    "CMD [\"echo\",\"Hello World......\"]"
   ]
  },
  {
   "cell_type": "code",
   "execution_count": null,
   "metadata": {},
   "outputs": [],
   "source": [
    "<br/><b>``</b>"
   ]
  },
  {
   "cell_type": "markdown",
   "metadata": {},
   "source": [
    "# How to build image from DockerFile?"
   ]
  },
  {
   "cell_type": "markdown",
   "metadata": {},
   "source": []
  },
  {
   "cell_type": "markdown",
   "metadata": {},
   "source": [
    "# Basic Commands"
   ]
  },
  {
   "cell_type": "markdown",
   "metadata": {},
   "source": []
  }
 ],
 "metadata": {
  "kernelspec": {
   "display_name": "Python 3",
   "language": "python",
   "name": "python3"
  },
  "language_info": {
   "codemirror_mode": {
    "name": "ipython",
    "version": 3
   },
   "file_extension": ".py",
   "mimetype": "text/x-python",
   "name": "python",
   "nbconvert_exporter": "python",
   "pygments_lexer": "ipython3",
   "version": "3.7.0"
  }
 },
 "nbformat": 4,
 "nbformat_minor": 2
}
