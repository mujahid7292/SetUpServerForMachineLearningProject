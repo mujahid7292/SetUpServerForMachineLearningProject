{
 "cells": [
  {
   "cell_type": "markdown",
   "metadata": {},
   "source": [
    "### Basic Command:"
   ]
  },
  {
   "cell_type": "markdown",
   "metadata": {},
   "source": [
    "To see the version of Docker Compose run:\n",
    "<br/><b>`docker-compose -v`</b>"
   ]
  },
  {
   "cell_type": "markdown",
   "metadata": {},
   "source": [
    "### Create Docker Compose File:"
   ]
  },
  {
   "cell_type": "markdown",
   "metadata": {},
   "source": [
    "1. We can create docker compose file in any location of our machine. The name of the file will be `docker-compose.yml`.\n",
    "2. Now open `docker-compose.yml` file using VS Code."
   ]
  },
  {
   "cell_type": "code",
   "execution_count": null,
   "metadata": {},
   "outputs": [],
   "source": [
    "version: \"3\"\n",
    "\n",
    "services:\n",
    "\n",
    "  web:\n",
    "    image: nginx\n",
    "    ports:\n",
    "   - 8080:80\n",
    "  \n",
    "  database:\n",
    "    image: redis"
   ]
  },
  {
   "cell_type": "markdown",
   "metadata": {},
   "source": [
    "version: \"3\"<br/>\n",
    "version must be \"3\" other wise it will give error.<br/>\n",
    "\"8080:80\" = here 80 means expose the port 80 of webserver & 8080 means expose the port 8080 on my host machine (my windows 10)."
   ]
  },
  {
   "cell_type": "markdown",
   "metadata": {},
   "source": [
    "3. Now we will check whether our `docker-compose.yml` file contain any error or not:\n",
    "    <br/><b>`docker-compose config`</b>"
   ]
  },
  {
   "cell_type": "markdown",
   "metadata": {},
   "source": [
    "### Run Docker Compose File:"
   ]
  },
  {
   "cell_type": "markdown",
   "metadata": {},
   "source": [
    "1. To run this Docker Compose file:\n",
    "<br/><b>`docker-compose up -d`</b>\n",
    "<br/>up = Run this `docker-compose.yml` file.\n",
    "<br/>-d = Run in detached mode. So that we can use our command line.\n",
    "\n",
    "2. If we want to see our all of the running container, we will run:\n",
    "    <br/><b>`docker ps`</b>\n",
    "    <br/>Return: This will confirm us that two container is currently running on our machine.\n",
    "    <br/> a) nginx\n",
    "    <br/> b) redis\n",
    "3. Now we can check our `nginx` server by going to following address:\n",
    "    <br/><b>`http://192.168.99.100:8080/`</b>\n"
   ]
  },
  {
   "cell_type": "markdown",
   "metadata": {},
   "source": [
    "### Stop Docker Compose:"
   ]
  },
  {
   "cell_type": "markdown",
   "metadata": {},
   "source": [
    "If we want to stop all the container which has been runned by `docker-compose.yml` file, we can run:\n",
    "<br/><b>`docker-compose down`</b>\n",
    "\n",
    "If we run below command we will see no container from `docker-compose.yml` file is currently running in our system:\n",
    "<br/><b>`docker ps`</b>"
   ]
  },
  {
   "cell_type": "markdown",
   "metadata": {},
   "source": [
    "## How to scale services?"
   ]
  },
  {
   "cell_type": "markdown",
   "metadata": {},
   "source": [
    "We want to scale our database services to four instances:\n",
    "<br/><b>`docker-compose up -d --scale database=4`</b>\n",
    "\n",
    "Now we can see by below command how many container is running in our machine:\n",
    "<br/><b>`docker ps`</b>"
   ]
  },
  {
   "cell_type": "code",
   "execution_count": null,
   "metadata": {},
   "outputs": [],
   "source": [
    "<br/><b>`docker `</b>"
   ]
  }
 ],
 "metadata": {
  "kernelspec": {
   "display_name": "Python 3",
   "language": "python",
   "name": "python3"
  },
  "language_info": {
   "codemirror_mode": {
    "name": "ipython",
    "version": 3
   },
   "file_extension": ".py",
   "mimetype": "text/x-python",
   "name": "python",
   "nbconvert_exporter": "python",
   "pygments_lexer": "ipython3",
   "version": "3.7.0"
  }
 },
 "nbformat": 4,
 "nbformat_minor": 2
}
