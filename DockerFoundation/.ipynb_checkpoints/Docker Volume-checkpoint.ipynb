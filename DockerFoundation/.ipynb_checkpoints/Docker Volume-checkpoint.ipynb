{
 "cells": [
  {
   "cell_type": "markdown",
   "metadata": {},
   "source": [
    "# Use Of Volume / Storage"
   ]
  },
  {
   "cell_type": "markdown",
   "metadata": {},
   "source": [
    "1. It is used for decoupling container from storage. If we delete or remove container than volume / storage will not be get deleted.\n",
    "2. It is used to share storage / data among different container.\n",
    "3. We can attach a volume to a container."
   ]
  },
  {
   "cell_type": "markdown",
   "metadata": {},
   "source": [
    "## Access all docker volume related command:"
   ]
  },
  {
   "cell_type": "markdown",
   "metadata": {},
   "source": [
    "To know all the command about docker volume, run:\n",
    "<br/><b>`docker volume --help`</b>"
   ]
  },
  {
   "cell_type": "markdown",
   "metadata": {},
   "source": [
    "### Create Docker Volume"
   ]
  },
  {
   "cell_type": "markdown",
   "metadata": {},
   "source": [
    "To create a volume:\n",
    "<br/><b>`docker volume create my_volume1`</b>\n",
    "<br/>my_volume1 = Newly create docker volume name.\n",
    "\n",
    "To see the list of all our volume in this machine we will run:\n",
    "<br/><b>`docker volume ls`</b>"
   ]
  },
  {
   "cell_type": "markdown",
   "metadata": {},
   "source": [
    "### Inspect Docker Volume"
   ]
  },
  {
   "cell_type": "markdown",
   "metadata": {},
   "source": [
    "To inspect docker volume:\n",
    "<br/><b>`docker volume inspect my_volume1`</b>\n",
    "<br/>my_volume1 = To be inspected volume name."
   ]
  },
  {
   "cell_type": "markdown",
   "metadata": {},
   "source": [
    "### Remove Docker Volume"
   ]
  },
  {
   "cell_type": "markdown",
   "metadata": {},
   "source": [
    "To remove single docker volume:\n",
    "<br/><b>`docker volume rm my_volume1`</b>\n",
    "<br/>my_volume1 = To be removed volume name.\n",
    "\n",
    "To remove all the unused docker volume:\n",
    "<br/><b>`docker volume prune`</b>"
   ]
  },
  {
   "cell_type": "markdown",
   "metadata": {},
   "source": [
    "### Use Docker Volume"
   ]
  },
  {
   "cell_type": "markdown",
   "metadata": {},
   "source": [
    "Pull jenkins image from docker hub:\n",
    "<br/><b>`docker pull jenkins`</b>\n",
    "\n",
    "Now run jenkins server:\n",
    "<br/><b>`docker run --name MyJenkins1  -v my_volume1:/var/jenkins_home -p 8080:8080 -p 50000:50000 jenkins`</b>\n",
    "\n",
    "<br/> `--name` = This flag is used to assign name for the container.\n",
    "<br/> `MyJenkins1` = Container Name.\n",
    "<br/> `-p` = This flag is used to expose the port.\n",
    "<br/> `8080` = Expose port 8080 in the local system.\n",
    "<br/> `8080` = Expose port 8080 in the jenkins server.\n",
    "<br/> `50000` = Expose port 50000 for api in the local system.\n",
    "<br/> `50000` = Expose port 50000 for api in the jenkin server.\n",
    "<br/> `-v` = This flag is used to attach a volume to the container.\n",
    "<br/> `my_volume1 `= Name of the to be attached volume.\n",
    "<br/> `/var/jenkins_home` = All of the data of jenkin server is stored in this directory.\n",
    "<br/> `my_volume1:/var/jenkins_home` = This means that my_volume1 will grab all the data from jenkins home.\n",
    "<br/> `jenkins` = Name of the image.\n",
    "\n",
    "\n",
    "Now run another jenkins in port 9090:\n",
    "<br/><b>`docker run --name MyJenkins2  -v my_volume1:/var/jenkins_home -p 9090:8080 -p 60000:50000 jenkins`</b>\n"
   ]
  },
  {
   "cell_type": "markdown",
   "metadata": {},
   "source": [
    "### Bind Mount"
   ]
  },
  {
   "cell_type": "markdown",
   "metadata": {},
   "source": [
    "This means instead of saving data in the docker volume, we will save data in the pysical location of the machine:\n",
    "<br/><b>`docker run --name MyJenkins3  -v /Users/HP/Desktop/JENKINS_HOME:/var/jenkins_home -p 7070:8080 -p 40000:50000 jenkins`</b>\n"
   ]
  },
  {
   "cell_type": "code",
   "execution_count": null,
   "metadata": {},
   "outputs": [],
   "source": [
    "<br/><b>`docker volume`</b>"
   ]
  }
 ],
 "metadata": {
  "kernelspec": {
   "display_name": "Python 3",
   "language": "python",
   "name": "python3"
  },
  "language_info": {
   "codemirror_mode": {
    "name": "ipython",
    "version": 3
   },
   "file_extension": ".py",
   "mimetype": "text/x-python",
   "name": "python",
   "nbconvert_exporter": "python",
   "pygments_lexer": "ipython3",
   "version": "3.7.0"
  }
 },
 "nbformat": 4,
 "nbformat_minor": 2
}
