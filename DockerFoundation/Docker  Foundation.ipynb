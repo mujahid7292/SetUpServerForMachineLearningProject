{
 "cells": [
  {
   "cell_type": "markdown",
   "metadata": {},
   "source": [
    "This documentation tutorial <a href=\"https://www.youtube.com/watch?v=ymlWt1MqURY&list=PLhW3qG5bs-L99pQsZ74f-LC-tOEsBp2rK&index=5\">link</a>"
   ]
  },
  {
   "cell_type": "markdown",
   "metadata": {},
   "source": [
    "# Docker ToolBox Installation Troubleshooting"
   ]
  },
  {
   "cell_type": "markdown",
   "metadata": {},
   "source": [
    "## 1. Windows is searching for bash.exe"
   ]
  },
  {
   "cell_type": "markdown",
   "metadata": {},
   "source": [
    "Go to git installation directory:\n",
    "<br/><b>`D:\\Installed Software\\Git\\bin`</b>\n",
    "\n",
    "Select the following .exe file:\n",
    "<br/><b>`bash.exe`</b>"
   ]
  },
  {
   "cell_type": "markdown",
   "metadata": {},
   "source": [
    "# Docker Command"
   ]
  },
  {
   "cell_type": "markdown",
   "metadata": {},
   "source": [
    "### System Command\n",
    "\n",
    "To see the Memory usage I/O of the container run:\n",
    "<br/><b>`docker stats`</b>\n",
    "\n",
    "To see the disk usage by docker run:\n",
    "<br/><b>`docker system df`</b>\n",
    "\n",
    "To delete all stopped container & all unused network & all build cache, run:\n",
    "<br/><b>`docker system prune`</b>"
   ]
  },
  {
   "cell_type": "markdown",
   "metadata": {},
   "source": [
    "# Docker Container Command"
   ]
  },
  {
   "cell_type": "markdown",
   "metadata": {},
   "source": [
    "To check our docker version:\n",
    "<br/><b>`docker -v`</b><br/>\n",
    "\n",
    "To run a image:\n",
    "<br/><b>`docker run hello-world`</b><br/>\n",
    "\n",
    "\n",
    "To see list of running container, run:\n",
    "<br/><b>`docker ps`</b><br/>\n",
    "\n",
    "To see list of all the container in this machine, run:\n",
    "<br/><b>`docker ps -a`</b><br/>\n",
    "\n",
    "To run a container:\n",
    "<br/><b>`docker run --name MyUbuntu1 -it ubuntu bash`</b><br/>\n",
    "--name = By this command we supply name of the container.<br/>\n",
    "MyUBuntu1 = Our provided container name.<br/>\n",
    "-it = Run container in interactive mode.<br/>\n",
    "ubuntu = image name.<br/>\n",
    "bash = bash inside this image.<br/>\n",
    "After bashing into the ubuntu container we will be able to all of the linux command.\n",
    "\n",
    "To start a container, run:\n",
    "<br/><b>`docker start MyUbuntu1`</b><br/>\n",
    "MyUbuntu1 = Container Name.<br/>\n",
    "or \n",
    "<br/><b>`docker start 82cfa4a0ee92`</b><br/>\n",
    "82cfa4a0ee92 = Container Id.<br/>\n",
    "\n",
    "To stop a container, run:\n",
    "<br/><b>`docker stop MyUbuntu1`</b><br/>\n",
    "MyUbuntu1 = Container Name.<br/>\n",
    "or \n",
    "<br/><b>`docker stop 82cfa4a0ee92`</b><br/>\n",
    "82cfa4a0ee92 = Container Id.<br/>\n",
    "\n",
    "\n",
    "To pause a container, run:\n",
    "<br/><b>`docker pause MyUbuntu1`</b><br/>\n",
    "or \n",
    "<br/><b>`docker pause 82cfa4a0ee92`</b>\n",
    "\n",
    "To unpause a container, run:\n",
    "<br/><b>`docker unpause MyUbuntu1`</b><br/>\n",
    "or \n",
    "<br/><b>`docker unpause 82cfa4a0ee92`</b>\n",
    "\n",
    "To Display the running processes of a container:\n",
    "<br/><b>`docker top MyUbuntu1`</b><br/>\n",
    "\n",
    "Display a live stream of container(s) resource usage statistics:\n",
    "<br/><b>`docker stats MyUbuntu1`</b>\n",
    "\n",
    "To get inside the running container:\n",
    "<br/><b>`docker attach MyUbuntu1`</b>\n",
    "\n",
    "To kill a running container:\n",
    "<br/><b>`docker kill MyUbuntu1`</b>\n",
    "\n",
    "To remove a container from machine:\n",
    "<br/><b>`docker rm MyUbuntu1`</b>\n",
    "\n",
    "To see history of a container:\n",
    "<br/><b>`docker history MyUbuntu1`</b>\n"
   ]
  },
  {
   "cell_type": "code",
   "execution_count": null,
   "metadata": {},
   "outputs": [],
   "source": [
    "<br/><b>`docker `</b>"
   ]
  },
  {
   "cell_type": "markdown",
   "metadata": {},
   "source": [
    "# `Docker Images` Command"
   ]
  },
  {
   "cell_type": "markdown",
   "metadata": {},
   "source": [
    "Now check whether we have any image installed in our machine:\n",
    "<br/><b>`docker images`</b>\n",
    "\n",
    "To see the usages of `docker images` command run:\n",
    "<br/><b>`docker images --help`</b>\n",
    "\n",
    "Let now pull an image from docker hub:\n",
    "<br/><b>`docker pull ubuntu`</b><br/>\n",
    "docker pull = Is the command<br/>\n",
    "ubuntu = To be downloaded image name\n",
    "\n",
    "If we want to pull particular image, then we have to provide image tag. Let say we want to pull `ubuntu 18.04`. Command:\n",
    "<br/><b>`docker pull ubuntu:18.04`</b><br/>\n",
    "18.04 = Image Tag<br/>\n",
    "\n",
    "If we want to get back all the downloaded images ID, run:\n",
    "<br/><b>`docker images -q`</b><br/>\n",
    "Return will be look like this<br/>\n",
    "93fd78260bd1<br/>\n",
    "93fd78260bd1<br/>\n",
    "\n",
    "We can filte out our downloaded images:\n",
    "<br/><b>`docker images -f \"dangling=false\"`</b><br/>\n",
    "-f = Filter out from the images list<br/>\n",
    "\"\" = Provide the filter criteria<br/>\n",
    "`dangling=false` = A dangling image is one that is not tagged and is not refferenced by any container.<br/>\n",
    "\n",
    "To list out all the images. run:<br/>\n",
    "<br/><b>`docker images -a`</b>\n",
    "\n",
    "To run image & insert into image by bash command run:<br/>\n",
    "<br/><b>`docker run --name MyUbuntu1 -it ubuntu bash`</b><br/>\n",
    "--name = By this command we supply name of the container.<br/>\n",
    "MyUBuntu1 = Our provided container name.<br/>\n",
    "-it = Run container in interactive mode.<br/>\n",
    "ubuntu = image name.<br/>\n",
    "bash = bash inside this image.<br/>\n",
    "After bashing into the ubuntu container we will be able to all of the linux command.\n",
    "\n",
    "To stop a container, run:\n",
    "<br/><b>`docker stop MyUbuntu1`</b><br/>\n",
    "stop = Docker Command.<br/>\n",
    "MyUbuntu = Container Name<br/>\n",
    "\n",
    "You can also a image by following command:\n",
    "<br/><b>`docker inspect ubuntu`</b><br/>\n",
    "ubuntu = Image Name.<br/>\n",
    "\n",
    "To remove an image from the machine, run:\n",
    "<br/><b>`docker rmi ubuntu`</b><br/>\n",
    "rmi = Remove Image Command.<br/>\n",
    "ubuntu = Name Of The Image.<br/>"
   ]
  },
  {
   "cell_type": "code",
   "execution_count": null,
   "metadata": {},
   "outputs": [],
   "source": [
    "<br/><b>`docker `</b>"
   ]
  }
 ],
 "metadata": {
  "kernelspec": {
   "display_name": "Python 3",
   "language": "python",
   "name": "python3"
  },
  "language_info": {
   "codemirror_mode": {
    "name": "ipython",
    "version": 3
   },
   "file_extension": ".py",
   "mimetype": "text/x-python",
   "name": "python",
   "nbconvert_exporter": "python",
   "pygments_lexer": "ipython3",
   "version": "3.7.0"
  }
 },
 "nbformat": 4,
 "nbformat_minor": 2
}
