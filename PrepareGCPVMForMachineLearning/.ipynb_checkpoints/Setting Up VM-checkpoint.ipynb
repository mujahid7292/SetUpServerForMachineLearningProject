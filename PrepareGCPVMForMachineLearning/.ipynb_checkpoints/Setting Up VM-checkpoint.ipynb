{
 "cells": [
  {
   "cell_type": "markdown",
   "metadata": {},
   "source": [
    "# Create SSH key & Save It to GCP"
   ]
  },
  {
   "cell_type": "markdown",
   "metadata": {},
   "source": [
    "1. create 2 vCPU, 7.5 GB memory, region=us-central-c, allow http traffic & Ubuntu 18.04 LTS\n",
    "2. Edit the VM instance without stopping it.\n",
    "3. Go to `SSH Keys` section of the edit page.\n",
    "4. Run puttygen.exe & press on `Generate`. Move mouse to bring randomness into the key.\n",
    "5. After key is generated, Type username & password on the following edittext box.<br/>\n",
    "   `Key comment:userName`<br/>\n",
    "   `Key passphrase:********`<br/>\n",
    "   `Confirm passphrase:********`\n",
    "6. Press on `Save public key` & save on the secure loaction with file name public.txt\n",
    "7. Press on `Save private key` & save on the secure loaction with file name private.ppk\n",
    "8. Now copy the above key & paste it into GCP's `SSH Keys box's`\n",
    "9. Exit out of puttygen.exe"
   ]
  },
  {
   "cell_type": "markdown",
   "metadata": {},
   "source": [
    "# Setting Up Putty"
   ]
  },
  {
   "cell_type": "markdown",
   "metadata": {},
   "source": [
    "1. Open putty.exe\n",
    "2. Add GCP server IP address inside putty's Host Name(Ip Address) edittext.\n",
    "3. Create a profile in putty. So that we can login future easily.\n",
    "4. Select from left hand side menu. Connection=>Data. As we did create an user name, we will write our user name.\n",
    "5. Select from left hand side menu. SSH=>Auth. Here we will upload our private key in \"Private key file for authentication\" edittext.\n",
    "6. Now we will select from left hand side menu. Sessoin=> In \"Saved Session\" we will write korjjo. The we will save this korjjo session.\n",
    "7. Now we will press 'Open' button below."
   ]
  },
  {
   "cell_type": "markdown",
   "metadata": {},
   "source": [
    "# Give userName sudo access"
   ]
  },
  {
   "cell_type": "markdown",
   "metadata": {},
   "source": [
    "1. We can check whether our user is in sudo group by running `id userNmae`.\n",
    "2. Note that userName is not in sudo group. We will add userNmae in sudo group so that he can run server as administrator. Command for adding userNmae in sudo group `usermod -aG sudo userNmae`. We will confirm this by `id userNmae`.\n",
    "3. As currently we are logged in as root user. Now we will log in as mujahid. So command for that sudo su - mujahid . Now you will see that prompt has been changed to mujahid@NodeJsServer:~$ from root@NodeJsServer:~#\n",
    "4. If we want to check whether we are logged in as root or mujahid, we will run whoami"
   ]
  },
  {
   "cell_type": "markdown",
   "metadata": {},
   "source": [
    "# Remove root log in & password login"
   ]
  },
  {
   "cell_type": "markdown",
   "metadata": {},
   "source": [
    "1. To remove root login & password login we have to edit a file inside our server. File name is `sshd_config`.<br/>\n",
    "\n",
    "2. We will edit this file using our nano editor. Command for opening this file using nano editor => <br/>\n",
    "<b>`$ sudo nano /etc/ssh/sshd_config`</b><br/>\n",
    "\n",
    "3. Inside the nano editor we will search by <b>`ctrl+w`</b> & search for the word <b>`PermitRootLogin`</b>\n",
    "\n",
    "4. <b>`PermitRootLogin prohibit-password`</b> change it to <b>`PermitRootLogin no`</b>\n",
    "\n",
    "5. We will again serach inside the nano editor by <b>`ctrl+w`</b> search for the word <b>`PasswordAuthentication`</b>\n",
    "\n",
    "6. We will check whether it is set as <b>`PasswordAuthentication no`</b>.\n",
    "\n",
    "7. Now press `ctrl+x` then press `y` and last press `enter`.\n",
    "\n",
    "8. Now we will reload the sshd by command =><br/> \n",
    "<b>`$ sudo systemctl reload sshd`</b><br/>\n"
   ]
  },
  {
   "cell_type": "markdown",
   "metadata": {},
   "source": [
    "# Setting Up WinSCP"
   ]
  },
  {
   "cell_type": "markdown",
   "metadata": {},
   "source": [
    "1. Run WinSCP from start menu.\n",
    "2. Press left sites `Tools` button. Then select import site. From thier select `GCP_MachineLearning`."
   ]
  },
  {
   "cell_type": "markdown",
   "metadata": {},
   "source": [
    "# Setting Up VNC Viewer"
   ]
  },
  {
   "cell_type": "markdown",
   "metadata": {},
   "source": [
    "### Step 1 — Installing the Desktop Environment and VNC Server"
   ]
  },
  {
   "cell_type": "markdown",
   "metadata": {},
   "source": [
    "On your server, update your list of packages:<br/>\n",
    "<b>`$ sudo apt update`</b><br/>\n",
    "\n",
    "Now install the Xfce desktop environment on your server:<br/>\n",
    "<b>`$ sudo apt install xfce4 xfce4-goodies`</b><br/>\n",
    "This will download 692 MB file\n",
    "\n",
    "Once that installation completes, install the TightVNC server:<br/>\n",
    "<b>`$ sudo apt install tightvncserver`</b><br/>\n",
    "\n",
    "To complete the VNC server's initial configuration after installation, use the `vncserver` command to set up a secure password and create the initial configuration files:<br/>\n",
    "<b>`$ vncserver`</b><br/>\n",
    "Once you verify the password, you'll have the option to create a a view-only password. Users who log in with the view-only password will not be able to control the VNC instance with their mouse or keyboard. This is a helpful option if you want to demonstrate something to other people using your VNC server, but this isn't required.\n",
    "\n"
   ]
  },
  {
   "cell_type": "markdown",
   "metadata": {},
   "source": [
    "### Step 2 — Configuring the VNC Server"
   ]
  },
  {
   "cell_type": "markdown",
   "metadata": {},
   "source": [
    "The VNC server needs to know which commands to execute when it starts up. Specifically, VNC needs to know which graphical desktop it should connect to.\n",
    "\n",
    "These commands are located in a configuration file called `xstartup` in the `.vnc` folder under your home directory. The startup script was created when you ran the vncserver in the previous step, but we'll create our own to launch the Xfce desktop.\n",
    "\n",
    "When VNC is first set up, it launches a default server instance on port `5901`. This port is called a display port, and is referred to by VNC as :1. VNC can launch multiple instances on other display ports, like :2, :3, and so on.\n",
    "\n",
    "Because we are going to be changing how the VNC server is configured, first stop the VNC server instance that is running on port `5901` with the following command:\n",
    "\n",
    "<b>`$ vncserver -kill :1`</b><br/>\n",
    "\n",
    "Before you modify the xstartup file, back up the original:<br/>\n",
    "<b>`$ mv ~/.vnc/xstartup ~/.vnc/xstartup.bak`</b><br/>\n",
    "\n",
    "Now create a new `xstartup` file and open it in your text editor:<br/>\n",
    "<b>`$ nano ~/.vnc/xstartup`</b><br/>\n",
    "\n",
    "Commands in this file are executed automatically whenever you start or restart the VNC server. We need VNC to start our desktop environment if it's not already started. Add these commands to the file:<br/>"
   ]
  },
  {
   "cell_type": "code",
   "execution_count": 2,
   "metadata": {},
   "outputs": [],
   "source": [
    "#!/bin/bash\n",
    "xrdb $HOME/.Xresources\n",
    "startxfce4 &"
   ]
  },
  {
   "cell_type": "markdown",
   "metadata": {},
   "source": [
    "The first command in the file, <b>xrdb $HOME/.Xresources</b>, tells VNC's GUI framework to read the server user's .Xresources file. .Xresources is where a user can make changes to certain settings of the graphical desktop, like terminal colors, cursor themes, and font rendering. The second command tells the server to launch Xfce, which is where you will find all of the graphical software that you need to comfortably manage your server."
   ]
  },
  {
   "cell_type": "markdown",
   "metadata": {},
   "source": [
    "To ensure that the VNC server will be able to use this new startup file properly, \n",
    "we will need to make it executable.<br/>\n",
    "<b>`$ sudo chmod +x ~/.vnc/xstartup`</b><br/>\n",
    "\n",
    "Now, restart the VNC server.<br/>\n",
    "<b>`$ vncserver`</b><br/>"
   ]
  },
  {
   "cell_type": "markdown",
   "metadata": {},
   "source": [
    "### Step 3 — Connecting the VNC Desktop Securely"
   ]
  },
  {
   "cell_type": "markdown",
   "metadata": {},
   "source": [
    "1. Close putty.exe\n",
    "2. Restart putty.exe\n",
    "3. Load seesion `GCP_MachineLearning`\n",
    "4. Go to Connection->SSH->Tunnels.\n",
    "5. Set `Source Port = 5901`\n",
    "6. Set `Destination = IP_ADDRESS:5901`\n",
    "7. Press `Add`.\n",
    "8. Now go to `Session` page & press on `save`. \n",
    "9. Press Open.\n",
    "10. Open `VNC Viewer` from start menu.\n",
    "11. On the browser address, write `localhost:5901`. Press enter."
   ]
  },
  {
   "cell_type": "code",
   "execution_count": null,
   "metadata": {},
   "outputs": [],
   "source": [
    "<b>`$ `</b><br/>"
   ]
  }
 ],
 "metadata": {
  "kernelspec": {
   "display_name": "Python 3",
   "language": "python",
   "name": "python3"
  },
  "language_info": {
   "codemirror_mode": {
    "name": "ipython",
    "version": 3
   },
   "file_extension": ".py",
   "mimetype": "text/x-python",
   "name": "python",
   "nbconvert_exporter": "python",
   "pygments_lexer": "ipython3",
   "version": "3.7.0"
  }
 },
 "nbformat": 4,
 "nbformat_minor": 2
}
