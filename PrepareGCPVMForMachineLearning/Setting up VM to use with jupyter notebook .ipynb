{
 "cells": [
  {
   "cell_type": "markdown",
   "metadata": {},
   "source": [
    "# How to set up Tensorflow and DeepDream on a free Google Cloud instance"
   ]
  },
  {
   "cell_type": "markdown",
   "metadata": {},
   "source": [
    "1. create 2 vCPU, 7.5 GB memory, region=us-central-c, allow http traffic & Ubuntu 18.04 LTS\n",
    "2. Press on the ssh button. This will open up the terminal.\n",
    "3. Run <b>`sudo apt-get update`</b><br/>\n",
    "4. Run <b>`sudo apt-get install python-pip`</b><br/>\n",
    "5. Run <b>`sudo apt-get install ipython`</b><br/>\n",
    "6. Run <b>`sudo pip install jupyter`</b><br/>\n",
    "\n",
    "Optional:<br/>\n",
    "To Download anaconda,Run:<br/>\n",
    "<b>`wget http://repo.continuum.io/archive/Anaconda3-5.3.1-Linux-x86_64.sh`</b><br/>\n",
    "\n",
    "To install Anaconda Run:<br/>\n",
    "<b>`bash Anaconda3-5.3.1-Linux-x86_64.sh`</b><br/>\n",
    "\n",
    "To make use of Anaconda right away, source your bashrc:<br/>\n",
    "<b>`source ~/.bashrc`</b><br/>\n",
    "\n",
    "Creat Jupyter Notebook COnfig File:<br/>\n",
    "<b>`jupyter notebook --generate-config`</b><br/>\n",
    "\n",
    "Now open this config file by nano editor:<br/>\n",
    "<b>`nano ~/.jupyter/jupyter_notebook_config.py`</b><br/>  \n",
    "\n",
    "Now put following configuration line on the start of the notebook:<br/>\n",
    "<b>`c = get_config()`</b><br/>\n",
    "<b>`c.NotebookApp.ip = '0.0.0.0'`</b><br/>\n",
    "<b>`c.NotebookApp.open_browser = False`</b><br/>\n",
    "<b>`c.NotebookApp.port = 8888`</b><br/>\n",
    "\n",
    "Then run this command in the ssh shel:<br/>\n",
    "<b>`jupyter-notebook --ip=0.0.0.0 --port=8888 --no-browser`</b><br/>"
   ]
  },
  {
   "cell_type": "markdown",
   "metadata": {},
   "source": [
    "# Setup Jupyter NoteBook"
   ]
  },
  {
   "cell_type": "markdown",
   "metadata": {},
   "source": [
    "Before we can get access to ipython in the browser window, we have to open the relevant port in our vm instance. \n",
    "\n",
    "1. So click on the name of the instance in GCP. Go down to `Network Interfaces` tab & click on `default` of Network Column.\n",
    "2. Click on the `FireWall Rules` column.\n",
    "3. Press button `Add FireWall Rule`.\n",
    "4. Give a name for the Firewall Rule. I gave the name `Jupyter`.\n",
    "5. In the `Targets` section, select `All Instances In The Network`.\n",
    "6. In the `Source filter` section, select `Ip Ranges`.\n",
    "7. In the `Source IP ranges` section, write `0.0.0.0/0`. This will allow networking from any source (Though it is unsecure, we are not going to share our http url with other).\n",
    "8. Go to `Protocols and ports` section. Set `tcp = 8888` & `udp = 8888`.\n",
    "9. Now press on the `create` button."
   ]
  },
  {
   "cell_type": "markdown",
   "metadata": {},
   "source": [
    "# Connecting my computer with google server using jupyter notebook"
   ]
  },
  {
   "cell_type": "markdown",
   "metadata": {},
   "source": [
    "1. Run <b>`sudo pip install tensorflow`</b><br/>\n",
    "2. Now we will get clone tensorflow github repository. Command:<br/>\n",
    "    <b>`git clone https://github.com/tensorflow/tensorflow.git`</b><br/>\n",
    "3. Now we will change our current directory to the `deepdream` directory. Run: <br/>\n",
    "    <b>`cd tensorflow/tensorflow/examples/tutorials/deepdream/`</b><br/>\n",
    "4. Now open up our jupyter notebook's port:8888 to the rest of the world.<br/>\n",
    "    <b>`sudo jupyter notebook --ip 0.0.0.0 --port 8888 --allow-root`</b><br/>\n",
    "5. Copy your VM's current External IP address & paste it in your windows 10 chrome browser.\n",
    "6. Then `http://(machine-learning or 127.0.0.1):8888/?token=**************` copy from :8888 to end. Paste this with previous IP address in the chrome browser. Now press enter.\n",
    "7. Now you will be able to use jupyter notebook, which is running on google server.\n"
   ]
  },
  {
   "cell_type": "code",
   "execution_count": null,
   "metadata": {},
   "outputs": [],
   "source": [
    "<b>``</b><br/>\n",
    "<b>``</b>"
   ]
  }
 ],
 "metadata": {
  "kernelspec": {
   "display_name": "Python 3",
   "language": "python",
   "name": "python3"
  },
  "language_info": {
   "codemirror_mode": {
    "name": "ipython",
    "version": 3
   },
   "file_extension": ".py",
   "mimetype": "text/x-python",
   "name": "python",
   "nbconvert_exporter": "python",
   "pygments_lexer": "ipython3",
   "version": "3.7.0"
  }
 },
 "nbformat": 4,
 "nbformat_minor": 2
}
