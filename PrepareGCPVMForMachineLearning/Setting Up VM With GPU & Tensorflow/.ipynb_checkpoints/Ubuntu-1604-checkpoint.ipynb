{
 "cells": [
  {
   "cell_type": "markdown",
   "metadata": {},
   "source": [
    "1. Create a VM Instance with following specification:\n",
    "    <br/><b>`Region:us-central1(iowa)`</b>\n",
    "    <br/><b>`Zone:us-central1-c`</b>\n",
    "    <br/><b>`vCPU:4`</b>\n",
    "    <br/><b>`RAM: 15 GB`</b>\n",
    "    <br/><b>`SSD: 50 GB`</b>\n",
    "    <br/><b>`GPU:Nvidia Tesla K80`</b>\n",
    "    <br/><b>`OS: Ubuntu:16.04 LTS`</b>\n",
    "    <br/><b>`Hourly Rate: $0.451`</b>\n",
    "    <br/><b>`Monthlyly Rate: $329.04`</b>\n",
    "    <br/><b>`Allow http traffic`</b>\n",
    "    \n",
    "2. Run: \n",
    "<br/><b>`sudo apt-get update`</b>\n",
    "\n",
    "3. Run \n",
    "   <br/><b>`sudo apt install python3-pip`</b><br/>\n",
    "   \n",
    "4. Run \n",
    "    <br/><b>`sudo apt-get install ipython`</b><br/>\n",
    "    \n",
    "5. Run \n",
    "    <br/><b>`sudo pip3 install jupyter`</b><br/>\n",
    "    \n",
    "6. Run\n",
    "    <br/><b>`sudo apt-get install nano`</b><br/>\n",
    "\n",
    "7. work as root\n",
    "  <br/><b>`sudo su`</b>\n",
    "  <br/>Return: root@machine-learning-gpu:/home/mujahid7292#\n",
    "  \n",
    "8. Install CUDA:\n",
    "    <br/><b>`if ! dpkg-query -W cuda; then\n",
    "    curl -O https://developer.download.nvidia.com/compute/cuda/repos/ubuntu1604/x86_64/cuda-repo-ubuntu1604_9.0.176-1_amd64.deb\n",
    "    sudo dpkg -i cuda-repo-ubuntu1604_9.0.176-1_amd64.deb\n",
    "    sudo apt-get update\n",
    "    sudo apt-get install cuda-9-0\n",
    "    sudo nvidia-smi -pm 1\n",
    "fi`</b>"
   ]
  },
  {
   "cell_type": "code",
   "execution_count": null,
   "metadata": {},
   "outputs": [],
   "source": [
    "if ! dpkg-query -W cuda; then\n",
    " curl -O https://developer.download.nvidia.com/compute/cuda/repos/ubuntu1604/x86_64/cuda-repo-ubuntu1604_9.0.176-1_amd64.deb\n",
    " sudo dpkg -i cuda-repo-ubuntu1604_9.0.176-1_amd64.deb\n",
    " sudo apt-get update\n",
    " sudo apt-get install cuda-9-0\n",
    " sudo nvidia-smi -pm 1\n",
    "fi"
   ]
  },
  {
   "cell_type": "markdown",
   "metadata": {},
   "source": [
    "5. To check installation of CUDA run:\n",
    "    <br/><b>`nvidia-smi`</b>\n",
    "    <br/>return: Here you will see CUDA Version: 10.0 | But we will continue with 9.0\n",
    "    <img src=\"img/Nvidia.png\" width=1000 height=600>\n",
    "    \n",
    "6. Go to https://developer.nvidia.com/rdp/cudnn-download\n",
    "\n",
    "7. Press on `Download cuDNN v7.4.1 (Nov 8, 2018), for CUDA 9.0`\n",
    "\n",
    "8. Now find this file & download `cuDNN Runtime Library for Ubuntu16.04 (Deb)`\n",
    "\n",
    "9. Now we will upload this file `libcudnn7_7.4.1.5-1+cuda9.0_amd64.deb` using WinSCP to our root directory. In WinSCP directory is `/home/mujahid7292/` .\n",
    "\n",
    "10. Now we will install this file using this command:\n",
    "<br/><b>`sudo dpkg -i libcudnn7_7.4.1.5-1+cuda9.0_amd64.deb`</b>\n",
    "<br/>return:\n",
    "    <img src=\"img/InstalledCuda.png\" width=1000 height=600>\n",
    "    \n",
    "11. Set sticky path defaults:\n",
    "    <br/><b>`echo 'export CUDA_HOME=/usr/local/cuda' >> ~/.bashrc`</b>\n",
    "    \n",
    "    <br/><b>`echo 'export PATH=$PATH:$CUDA_HOME/bin' >> ~/.bashrc`</b>\n",
    "    \n",
    "    <br/><b>`echo 'export LD_LIBRARY_PATH=/usr/local/cuda/extras/CUPTI/lib64:$LD_LIBRARY_PATH' >> ~/.bashrc`</b>\n",
    "    \n",
    "    <br/><b>`source ~/.bashrc`</b>\n",
    "    \n",
    "12. Install needed Python binaries:\n",
    "    <br/><b>`sudo apt-get install python3-dev python3-pip libcupti-dev`</b>\n",
    "    \n",
    "13. install tensorflow-gpu:\n",
    "    <br/><b>`sudo pip3 install tensorflow-gpu`</b>\n",
    "\n"
   ]
  },
  {
   "cell_type": "markdown",
   "metadata": {},
   "source": [
    "### Setup Jupyter NoteBook"
   ]
  },
  {
   "cell_type": "markdown",
   "metadata": {},
   "source": [
    "Creat Jupyter Notebook COnfig File:<br/>\n",
    "<b>`jupyter notebook --generate-config`</b><br/>\n",
    "\n",
    "Now open this config file by nano editor:<br/>\n",
    "<b>`nano ~/.jupyter/jupyter_notebook_config.py`</b><br/>  \n",
    "\n",
    "Now put following configuration line on the start of the notebook:<br/>\n",
    "<b>`c = get_config()`</b><br/>\n",
    "<b>`c.NotebookApp.ip = '0.0.0.0'`</b><br/>\n",
    "<b>`c.NotebookApp.open_browser = False`</b><br/>\n",
    "<b>`c.NotebookApp.port = 8888`</b><br/>\n",
    "\n",
    "Then run this command in the ssh shel:<br/>\n",
    "<b>`sudo jupyter notebook --ip 0.0.0.0 --port 8888 --allow-root`</b><br/>"
   ]
  },
  {
   "cell_type": "markdown",
   "metadata": {},
   "source": [
    "### Change Firewall Rule"
   ]
  },
  {
   "cell_type": "markdown",
   "metadata": {},
   "source": [
    "Before we can get access to ipython in the browser window, we have to open the relevant port in our vm instance. \n",
    "\n",
    "1. So click on the name of the instance in GCP. Go down to `Network Interfaces` tab & click on `default` of Network Column.\n",
    "2. Click on the `FireWall Rules` column.\n",
    "3. Press button `Add FireWall Rule`.\n",
    "4. Give a name for the Firewall Rule. I gave the name `Jupyter`.\n",
    "5. In the `Targets` section, select `All Instances In The Network`.\n",
    "6. In the `Source filter` section, select `Ip Ranges`.\n",
    "7. In the `Source IP ranges` section, write `0.0.0.0/0`. This will allow networking from any source (Though it is unsecure, we are not going to share our http url with other).\n",
    "8. Go to `Protocols and ports` section. Set `tcp = 8888` & `udp = 8888`.\n",
    "9. Now press on the `create` button."
   ]
  },
  {
   "cell_type": "code",
   "execution_count": null,
   "metadata": {},
   "outputs": [],
   "source": [
    "#Now we will test our GPU, with below code:\n",
    "# Creates a graph.\n",
    "with tf.device('/gpu:0'):\n",
    "  a = tf.constant([1.0, 2.0, 3.0, 4.0, 5.0, 6.0], shape=[2, 3], name='a')\n",
    "  b = tf.constant([1.0, 2.0, 3.0, 4.0, 5.0, 6.0], shape=[3, 2], name='b')\n",
    "c = tf.matmul(a, b)\n",
    "# Creates a session with log_device_placement set to True.\n",
    "sess = tf.Session(config=tf.ConfigProto(log_device_placement=True))\n",
    "# Runs the op.\n",
    "print(sess.run(c))"
   ]
  },
  {
   "cell_type": "code",
   "execution_count": null,
   "metadata": {},
   "outputs": [],
   "source": []
  }
 ],
 "metadata": {
  "kernelspec": {
   "display_name": "Python 3",
   "language": "python",
   "name": "python3"
  },
  "language_info": {
   "codemirror_mode": {
    "name": "ipython",
    "version": 3
   },
   "file_extension": ".py",
   "mimetype": "text/x-python",
   "name": "python",
   "nbconvert_exporter": "python",
   "pygments_lexer": "ipython3",
   "version": "3.7.0"
  }
 },
 "nbformat": 4,
 "nbformat_minor": 2
}
