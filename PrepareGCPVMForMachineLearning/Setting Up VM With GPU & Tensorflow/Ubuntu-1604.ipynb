{
 "cells": [
  {
   "cell_type": "markdown",
   "metadata": {},
   "source": [
    "1. Create a VM Instance with following specification:\n",
    "    <br/><b>`Region:us-central1(iowa)`</b>\n",
    "    <br/><b>`Zone:us-central1-c`</b>\n",
    "    <br/><b>`vCPU:4`</b>\n",
    "    <br/><b>`RAM: 15 GB`</b>\n",
    "    <br/><b>`SSD: 50 GB`</b>\n",
    "    <br/><b>`GPU:Nvidia Tesla K80`</b>\n",
    "    <br/><b>`OS: Ubuntu:16.04 LTS`</b>\n",
    "    <br/><b>`Hourly Rate: $0.451`</b>\n",
    "    <br/><b>`Monthlyly Rate: $329.04`</b>\n",
    "    <br/><b>`Allow http traffic`</b>\n",
    "    \n",
    "2. Run: \n",
    "<br/><b>`sudo apt-get update`</b>\n",
    "3. work as root\n",
    "  <br/><b>`sudo su`</b>\n",
    "  <br/>Return: root@machine-learning-gpu:/home/mujahid7292#\n",
    "4. Install CUDA:\n",
    "    <br/><b>`if ! dpkg-query -W cuda; then\n",
    "    curl -O https://developer.download.nvidia.com/compute/cuda/repos/ubuntu1604/x86_64/cuda-repo-ubuntu1604_9.0.176-1_amd64.deb\n",
    "    sudo dpkg -i cuda-repo-ubuntu1604_9.0.176-1_amd64.deb\n",
    "    sudo apt-get update\n",
    "    sudo apt-get install cuda-9-0\n",
    "    sudo nvidia-smi -pm 1\n",
    "fi`</b>"
   ]
  },
  {
   "cell_type": "code",
   "execution_count": null,
   "metadata": {},
   "outputs": [],
   "source": [
    "if ! dpkg-query -W cuda; then\n",
    " curl -O https://developer.download.nvidia.com/compute/cuda/repos/ubuntu1604/x86_64/cuda-repo-ubuntu1604_9.0.176-1_amd64.deb\n",
    " sudo dpkg -i cuda-repo-ubuntu1604_9.0.176-1_amd64.deb\n",
    " sudo apt-get update\n",
    " sudo apt-get install cuda-9-0\n",
    " sudo nvidia-smi -pm 1\n",
    "fi"
   ]
  },
  {
   "cell_type": "markdown",
   "metadata": {},
   "source": [
    "5. To check installation of CUDA run:\n",
    "    <br/><b>`nvidia-smi`</b>\n",
    "    <br/>return: Here you will see CUDA Version: 10.0 | But we will continue with 9.0\n",
    "    <img src=\"img/Nvidia.png\" width=1000 height=600>\n",
    "6. Go to https://developer.nvidia.com/rdp/cudnn-download\n",
    "7. Press on `Download cuDNN v7.4.1 (Nov 8, 2018), for CUDA 9.0`\n",
    "8. Now Go to Nvidia Developer site & download `cuDNN Runtime Library for Ubuntu16.04 (Deb)`\n",
    "9. Now we will upload this file `libcudnn7_7.4.1.5-1+cuda9.0_amd64.deb` using WinSCP to our root directory. In WinSCP directory is `/home/mujahid7292/` .\n",
    "10. Now we will install this file using this command:\n",
    "<br/><b>`sudo dpkg -i libcudnn7_7.4.1.5-1+cuda9.0_amd64.deb`</b>\n",
    "<br/>return:\n",
    "    <img src=\"img/InstalledCuda.png\" width=1000 height=600>\n",
    "    \n",
    "11. Set sticky path defaults:\n",
    "    <br/><b>`echo 'export CUDA_HOME=/usr/local/cuda' >> ~/.bashrc`</b>\n",
    "    \n",
    "    <br/><b>`echo 'export PATH=$PATH:$CUDA_HOME/bin' >> ~/.bashrc`</b>\n",
    "    \n",
    "    <br/><b>`echo 'export LD_LIBRARY_PATH=/usr/local/cuda/extras/CUPTI/lib64:$LD_LIBRARY_PATH' >> ~/.bashrc`</b>\n",
    "    \n",
    "    <br/><b>`source ~/.bashrc`</b>\n",
    "    \n",
    "12. Install needed Python binaries:\n",
    "    <br/><b>`sudo apt-get install python3-dev python3-pip libcupti-dev`</b>\n",
    "    \n",
    "13. install tensorflow-gpu:\n",
    "    <br/><b>`sudo pip3 install tensorflow-gpu`</b>\n",
    "14. Run <b>`sudo apt-get install python-pip`</b><br/>\n",
    "\n",
    "15. Run <b>`sudo pip install --upgrade pip`</b><br/>\n",
    "\n",
    "16. install ipython3:\n",
    "    <br/><b>`sudo apt-get install ipython`</b>\n",
    "17. Install Jupyter Notebook:\n",
    "    <br/><b>`sudo pip install jupyter`</b>\n",
    "18. Now open up our jupyter notebook's port:8888 to the rest of the world.<br/>\n",
    "    <b>`sudo jupyter notebook --ip 0.0.0.0 --port 8888 --allow-root`</b><br/>\n",
    "19. Copy your VM's current External IP address & paste it in your windows 10 chrome browser.\n",
    "20. Then `http://(machine-learning or 127.0.0.1):8888/?token=**************` copy from :8888 to end. Paste this with previous IP address in the chrome browser. Now press enter.\n",
    "21. Now you will be able to use jupyter notebook, which is running on google server.\n",
    "\n",
    "Now we will test our GPU, with below code:"
   ]
  },
  {
   "cell_type": "code",
   "execution_count": null,
   "metadata": {},
   "outputs": [],
   "source": [
    "# Creates a graph.\n",
    "with tf.device('/gpu:0'):\n",
    "  a = tf.constant([1.0, 2.0, 3.0, 4.0, 5.0, 6.0], shape=[2, 3], name='a')\n",
    "  b = tf.constant([1.0, 2.0, 3.0, 4.0, 5.0, 6.0], shape=[3, 2], name='b')\n",
    "c = tf.matmul(a, b)\n",
    "# Creates a session with log_device_placement set to True.\n",
    "sess = tf.Session(config=tf.ConfigProto(log_device_placement=True))\n",
    "# Runs the op.\n",
    "print(sess.run(c))"
   ]
  },
  {
   "cell_type": "code",
   "execution_count": null,
   "metadata": {},
   "outputs": [],
   "source": []
  }
 ],
 "metadata": {
  "kernelspec": {
   "display_name": "Python 3",
   "language": "python",
   "name": "python3"
  },
  "language_info": {
   "codemirror_mode": {
    "name": "ipython",
    "version": 3
   },
   "file_extension": ".py",
   "mimetype": "text/x-python",
   "name": "python",
   "nbconvert_exporter": "python",
   "pygments_lexer": "ipython3",
   "version": "3.7.0"
  }
 },
 "nbformat": 4,
 "nbformat_minor": 2
}
