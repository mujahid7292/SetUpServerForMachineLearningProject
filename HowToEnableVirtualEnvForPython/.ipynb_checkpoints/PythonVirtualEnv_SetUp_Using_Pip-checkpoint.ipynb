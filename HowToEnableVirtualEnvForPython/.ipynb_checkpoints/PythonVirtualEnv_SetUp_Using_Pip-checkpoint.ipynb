{
 "cells": [
  {
   "cell_type": "markdown",
   "metadata": {},
   "source": [
    "# PythonEnv:Ubuntu 16.04"
   ]
  },
  {
   "cell_type": "markdown",
   "metadata": {},
   "source": [
    "<li>First upgrade our pip version=> <b>sudo pip install --upgrade pip</b></li>\n",
    "\n",
    "<li>Install virtualenv <b>sudo pip install virtualenv</b></li>\n",
    "\n",
    "<li>To see what types of package are installed in global site package. Run=> <b>pip list</b></li>\n",
    "\n",
    "<li>To see the list of virtual environment already installed in this machine run=> <b>lsvirtualenv</b></li>\n",
    "\n",
    "<li>Now first make a folder name \"Environments\". In this folder we will save our all future python environment. Now first cd to the directory where you want to create this folder, then run=> <b>mkdir Environments</b></li>\n",
    "\n",
    "<li>Now cd to that environment folder by running command=> <b>cd Environments</b></li>\n",
    "\n",
    "<li>Now create our first python virtual environment in the Environments folder by running this command=> <b>virtualenv project1_env</b></li>\n",
    "\n",
    "<li>To activate \"project1_env\" run=> <b>source project1_env/bin/activate</b></li>\n",
    "\n",
    "<li>Now from inside our environment, if we want to check which python we are running (whether environment's python or global python) run=> <b>which python</b>  | It will show us python inside our \"project1_env\".</li>\n",
    "\n",
    "<li>We can also check pip.run=> <b>which pip</b></li>\n",
    "\n",
    "<li>Now if we run=> <b>pip list</b>  | here, we will not see global pip package.</li>\n",
    "\n",
    "<li>Now install some package inside this python environment <b>pip install numpy</b></li>\n",
    "\n",
    "<li>To get out of python virtual environment. run=> <b>deactivate</b></li>\n",
    "\n",
    "<li>If we want to delete python environment, then first we have to deactivate that environment, then we have to run following command=> <b>rm -rf project1_env/</b></li>\n"
   ]
  },
  {
   "cell_type": "markdown",
   "metadata": {},
   "source": [
    "# Specific Python Environment"
   ]
  },
  {
   "cell_type": "markdown",
   "metadata": {},
   "source": [
    "Lets say, we want to create a python project which depend on python 2.7"
   ]
  },
  {
   "cell_type": "markdown",
   "metadata": {},
   "source": [
    "\n",
    "<li>To create python 2.7 dependable virtual environment run=> <b>virtualenv -p /usr/bin/python2.7 python27_project_env</b></li>\n",
    "\n",
    "<li>Now activate our newly created python environment=> <b>source python27_project_env/bin/activate</b></li>\n",
    "\n",
    "<li>To see whether this environment has been configured with python 2.7 version or not, run=> <b>python --version</b></li>\n"
   ]
  },
  {
   "cell_type": "code",
   "execution_count": null,
   "metadata": {},
   "outputs": [],
   "source": []
  }
 ],
 "metadata": {
  "kernelspec": {
   "display_name": "Python 3",
   "language": "python",
   "name": "python3"
  },
  "language_info": {
   "codemirror_mode": {
    "name": "ipython",
    "version": 3
   },
   "file_extension": ".py",
   "mimetype": "text/x-python",
   "name": "python",
   "nbconvert_exporter": "python",
   "pygments_lexer": "ipython3",
   "version": "3.7.0"
  }
 },
 "nbformat": 4,
 "nbformat_minor": 2
}
