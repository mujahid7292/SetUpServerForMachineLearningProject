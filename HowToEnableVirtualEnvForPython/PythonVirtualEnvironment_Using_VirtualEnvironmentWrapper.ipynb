{
 "cells": [
  {
   "cell_type": "markdown",
   "metadata": {},
   "source": [
    "# Ubuntu 16.04"
   ]
  },
  {
   "cell_type": "markdown",
   "metadata": {},
   "source": [
    "\n",
    "<li>First install virtualenvwrapper. Command=> <b>pip install virtualenvwrapper</b></li>\n",
    "\n",
    "<li>To see the list of virtual environment already installed in this machine run=> <b>lsvirtualenv</b></li>\n",
    "\n",
    "<li>Now create a virtual environment by=> <b>mkvirtualenv project1_env</b></li>\n",
    "\n",
    "\n",
    "<li>Now cd to directory where you will create new project=> <b>cd Mujahid</b></li>\n",
    "\n",
    "\n",
    "<li>Now create a new project folder \"FaceRecognitionByOpenCV\". => <b>mkdir FaceRecognitionByOpenCV/</b></li>\n",
    "\n",
    "<li>Now cd to this projects folder <b>cd FaceRecognitionByOpenCV</b></li>\n",
    "\n",
    "<li>Inside \"FaceRecognitionByOpenCV\" folder  activate \"project1_env\" environment.=> <b>workon project1_env</b></li>\n",
    "\n",
    "<li>To set this virtual environment project, run=> <b>setvirtualenvproject</b></li>\n",
    "\n",
    "<li> <b></b></li>"
   ]
  },
  {
   "cell_type": "code",
   "execution_count": null,
   "metadata": {},
   "outputs": [],
   "source": []
  }
 ],
 "metadata": {
  "kernelspec": {
   "display_name": "Python 3",
   "language": "python",
   "name": "python3"
  },
  "language_info": {
   "codemirror_mode": {
    "name": "ipython",
    "version": 3
   },
   "file_extension": ".py",
   "mimetype": "text/x-python",
   "name": "python",
   "nbconvert_exporter": "python",
   "pygments_lexer": "ipython3",
   "version": "3.7.0"
  }
 },
 "nbformat": 4,
 "nbformat_minor": 2
}
