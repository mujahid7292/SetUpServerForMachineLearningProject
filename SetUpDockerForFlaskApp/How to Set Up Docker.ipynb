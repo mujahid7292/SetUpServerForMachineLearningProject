{
 "cells": [
  {
   "cell_type": "markdown",
   "metadata": {},
   "source": [
    "### First we will download ubuntu:18.04 image from docker hub, by below command:"
   ]
  },
  {
   "cell_type": "code",
   "execution_count": 6,
   "metadata": {},
   "outputs": [
    {
     "name": "stdout",
     "output_type": "stream",
     "text": [
      "18.04: Pulling from library/ubuntu\n",
      "Digest: sha256:e5b0b89c846690afe2ce325ac6c6bc3d686219cfa82166fc75c812c1011f0803\n",
      "Status: Image is up to date for ubuntu:18.04\n",
      "docker.io/library/ubuntu:18.04\n"
     ]
    }
   ],
   "source": [
    "%%bash\n",
    "docker pull ubuntu:18.04"
   ]
  },
  {
   "cell_type": "markdown",
   "metadata": {},
   "source": [
    "### To see the size of our above downloaded image we will run:"
   ]
  },
  {
   "cell_type": "code",
   "execution_count": 4,
   "metadata": {},
   "outputs": [
    {
     "name": "stdout",
     "output_type": "stream",
     "text": [
      "REPOSITORY          TAG                 IMAGE ID            CREATED             SIZE\n",
      "ubuntu              18.04               d27b9ffc5667        11 days ago         64.2MB\n"
     ]
    }
   ],
   "source": [
    "%%bash\n",
    "docker images"
   ]
  },
  {
   "cell_type": "markdown",
   "metadata": {},
   "source": [
    "From there we can see that our ubuntu:18.04 image size is 64.2 megabyte."
   ]
  },
  {
   "cell_type": "markdown",
   "metadata": {},
   "source": [
    "### We can inspect our ubuntu:18.04 image by below command."
   ]
  },
  {
   "cell_type": "code",
   "execution_count": 5,
   "metadata": {},
   "outputs": [
    {
     "name": "stdout",
     "output_type": "stream",
     "text": [
      "[\n",
      "    {\n",
      "        \"Id\": \"sha256:d27b9ffc56677946e64c1dc85413006d8f27946eeb9505140b094bade0bfb0cc\",\n",
      "        \"RepoTags\": [\n",
      "            \"ubuntu:18.04\"\n",
      "        ],\n",
      "        \"RepoDigests\": [\n",
      "            \"ubuntu@sha256:e5b0b89c846690afe2ce325ac6c6bc3d686219cfa82166fc75c812c1011f0803\"\n",
      "        ],\n",
      "        \"Parent\": \"\",\n",
      "        \"Comment\": \"\",\n",
      "        \"Created\": \"2020-07-06T21:56:11.478320417Z\",\n",
      "        \"Container\": \"640eb0a9579842b783e2171fe5f644f4654eb6110b59b64c9a86e0ee85f90c76\",\n",
      "        \"ContainerConfig\": {\n",
      "            \"Hostname\": \"640eb0a95798\",\n",
      "            \"Domainname\": \"\",\n",
      "            \"User\": \"\",\n",
      "            \"AttachStdin\": false,\n",
      "            \"AttachStdout\": false,\n",
      "            \"AttachStderr\": false,\n",
      "            \"Tty\": false,\n",
      "            \"OpenStdin\": false,\n",
      "            \"StdinOnce\": false,\n",
      "            \"Env\": [\n",
      "                \"PATH=/usr/local/sbin:/usr/local/bin:/usr/sbin:/usr/bin:/sbin:/bin\"\n",
      "            ],\n",
      "            \"Cmd\": [\n",
      "                \"/bin/sh\",\n",
      "                \"-c\",\n",
      "                \"#(nop) \",\n",
      "                \"CMD [\\\"/bin/bash\\\"]\"\n",
      "            ],\n",
      "            \"ArgsEscaped\": true,\n",
      "            \"Image\": \"sha256:4f2a5734a710e5466a625e279994892c9dd9003d0504d99c8297b01b7138a663\",\n",
      "            \"Volumes\": null,\n",
      "            \"WorkingDir\": \"\",\n",
      "            \"Entrypoint\": null,\n",
      "            \"OnBuild\": null,\n",
      "            \"Labels\": {}\n",
      "        },\n",
      "        \"DockerVersion\": \"18.09.7\",\n",
      "        \"Author\": \"\",\n",
      "        \"Config\": {\n",
      "            \"Hostname\": \"\",\n",
      "            \"Domainname\": \"\",\n",
      "            \"User\": \"\",\n",
      "            \"AttachStdin\": false,\n",
      "            \"AttachStdout\": false,\n",
      "            \"AttachStderr\": false,\n",
      "            \"Tty\": false,\n",
      "            \"OpenStdin\": false,\n",
      "            \"StdinOnce\": false,\n",
      "            \"Env\": [\n",
      "                \"PATH=/usr/local/sbin:/usr/local/bin:/usr/sbin:/usr/bin:/sbin:/bin\"\n",
      "            ],\n",
      "            \"Cmd\": [\n",
      "                \"/bin/bash\"\n",
      "            ],\n",
      "            \"ArgsEscaped\": true,\n",
      "            \"Image\": \"sha256:4f2a5734a710e5466a625e279994892c9dd9003d0504d99c8297b01b7138a663\",\n",
      "            \"Volumes\": null,\n",
      "            \"WorkingDir\": \"\",\n",
      "            \"Entrypoint\": null,\n",
      "            \"OnBuild\": null,\n",
      "            \"Labels\": null\n",
      "        },\n",
      "        \"Architecture\": \"amd64\",\n",
      "        \"Os\": \"linux\",\n",
      "        \"Size\": 64228599,\n",
      "        \"VirtualSize\": 64228599,\n",
      "        \"GraphDriver\": {\n",
      "            \"Data\": {\n",
      "                \"LowerDir\": \"/var/lib/docker/overlay2/cadbb4d5920b6dfb9e22809015f6bbd9e83b2ed5ff8af1c0de06c9221a1842bb/diff:/var/lib/docker/overlay2/412861f1ab9c3b2c03b179ed191b2fd1c24d3029345349a38a40ef7f89563871/diff:/var/lib/docker/overlay2/001995a5ce6f8b356e96063a833abfe012654abc3c85d43a66b4aa82446a3014/diff\",\n",
      "                \"MergedDir\": \"/var/lib/docker/overlay2/501ebc82a5f415cad2a6fbe30877e12eef6e741aa7f6387fdf98850c707db105/merged\",\n",
      "                \"UpperDir\": \"/var/lib/docker/overlay2/501ebc82a5f415cad2a6fbe30877e12eef6e741aa7f6387fdf98850c707db105/diff\",\n",
      "                \"WorkDir\": \"/var/lib/docker/overlay2/501ebc82a5f415cad2a6fbe30877e12eef6e741aa7f6387fdf98850c707db105/work\"\n",
      "            },\n",
      "            \"Name\": \"overlay2\"\n",
      "        },\n",
      "        \"RootFS\": {\n",
      "            \"Type\": \"layers\",\n",
      "            \"Layers\": [\n",
      "                \"sha256:88cc1a200eb9be206c4261e79d642c392d97980236a066f23434f4452f8212a7\",\n",
      "                \"sha256:bf509d6bc5ecd3b1a3660fb5f167ce2e320f5cc532574217cd8ba179ca06bae9\",\n",
      "                \"sha256:2af0e1f1e531af9c95e30c3f908f6431d635a173b866e39b5f480e9ff3a180b9\",\n",
      "                \"sha256:4b07a7bca5b71a13357fc3f96dab8dd67a2ffb139410cd2fcd74a61fa8225255\"\n",
      "            ]\n",
      "        },\n",
      "        \"Metadata\": {\n",
      "            \"LastTagTime\": \"0001-01-01T00:00:00Z\"\n",
      "        }\n",
      "    }\n",
      "]\n"
     ]
    }
   ],
   "source": [
    "%%bash\n",
    "docker inspect ubuntu:18.04"
   ]
  },
  {
   "cell_type": "markdown",
   "metadata": {},
   "source": [
    "# Create simple Flask App"
   ]
  },
  {
   "cell_type": "code",
   "execution_count": null,
   "metadata": {},
   "outputs": [],
   "source": [
    "%%bash\n",
    "mkdir Docker_Flask"
   ]
  },
  {
   "cell_type": "code",
   "execution_count": 34,
   "metadata": {},
   "outputs": [
    {
     "name": "stdout",
     "output_type": "stream",
     "text": [
      "Overwriting Docker_Flask/run.py\n"
     ]
    }
   ],
   "source": [
    "%%writefile Docker_Flask/run.py\n",
    "from flask import Flask\n",
    "\n",
    "app = Flask(__name__)\n",
    "\n",
    "@app.route('/')\n",
    "def hello_world():\n",
    "    return \"Hello World\"\n",
    "\n",
    "if __name__=='__main__':\n",
    "    app.run(host=\"0.0.0.0\")"
   ]
  },
  {
   "cell_type": "code",
   "execution_count": 37,
   "metadata": {},
   "outputs": [
    {
     "name": "stdout",
     "output_type": "stream",
     "text": [
      "Overwriting Docker_Flask/Dockerfile\n"
     ]
    }
   ],
   "source": [
    "%%writefile Docker_Flask/Dockerfile\n",
    "# We have to provide a base image name. Depending upon this \n",
    "# base image our new docker image will be created. So write:\n",
    "FROM ubuntu:18.04\n",
    "# Put this newly created image maintainer name & \n",
    "# emaill address.\n",
    "MAINTAINER Saifullah Al Mujahid <mujahid7292@gmail.com>\n",
    "# Now run some command to build this image:\n",
    "RUN apt-get update\n",
    "# Now we will install or upgrade python3\n",
    "RUN apt-get update && apt-get install -qq -y python3.7\n",
    "# We will install python3 pip\n",
    "RUN apt-get update && apt-get install -qq -y python3-pip\n",
    "# Now we will install flask inside the container\n",
    "RUN pip3 install --no-cache-dir -qq flask\n",
    "# Now we will create a folder `app` inside docker image and\n",
    "WORKDIR /app\n",
    "# Here workdir command is same as cd\n",
    "# Now we will copy everything from Docker_Flask directory of our \n",
    "# local computer to docker image app directory. As now we are\n",
    "# currently in this Docker_Flask directory so we will put only .\n",
    "COPY . /app\n",
    "# As flask development server use port 5000\n",
    "# So we will open port 5000 inside docker container.\n",
    "EXPOSE 5000\n",
    "# Now we will run our flsk app\n",
    "ENTRYPOINT [\"python3\"]\n",
    "CMD [\"run.py\"]"
   ]
  },
  {
   "cell_type": "markdown",
   "metadata": {},
   "source": [
    "### Now we will build our docker image:"
   ]
  },
  {
   "cell_type": "code",
   "execution_count": 38,
   "metadata": {},
   "outputs": [
    {
     "name": "stdout",
     "output_type": "stream",
     "text": [
      "Sending build context to Docker daemon  4.096kB\r",
      "\r\n",
      "Step 1/11 : FROM ubuntu:18.04\n",
      " ---> d27b9ffc5667\n",
      "Step 2/11 : MAINTAINER Saifullah Al Mujahid <mujahid7292@gmail.com>\n",
      " ---> Using cache\n",
      " ---> 50a2bee3fb0f\n",
      "Step 3/11 : RUN apt-get update\n",
      " ---> Using cache\n",
      " ---> e9cc4f1d7eb7\n",
      "Step 4/11 : RUN apt-get update && apt-get install -qq -y python3.7\n",
      " ---> Using cache\n",
      " ---> 15e1a029d913\n",
      "Step 5/11 : RUN apt-get update && apt-get install -qq -y python3-pip\n",
      " ---> Using cache\n",
      " ---> b828cc9351af\n",
      "Step 6/11 : RUN pip3 install --no-cache-dir -qq flask\n",
      " ---> Using cache\n",
      " ---> 5134ae8233cb\n",
      "Step 7/11 : WORKDIR /app\n",
      " ---> Using cache\n",
      " ---> 191cc2084374\n",
      "Step 8/11 : COPY . /app\n",
      " ---> 4b2ace775486\n",
      "Step 9/11 : EXPOSE 5000\n",
      " ---> Running in 362bce38ac0b\n",
      "Removing intermediate container 362bce38ac0b\n",
      " ---> e183a093a23a\n",
      "Step 10/11 : ENTRYPOINT [\"python3\"]\n",
      " ---> Running in d078c5efd4f6\n",
      "Removing intermediate container d078c5efd4f6\n",
      " ---> 32052c04d06f\n",
      "Step 11/11 : CMD [\"run.py\"]\n",
      " ---> Running in 3b4b460bb89e\n",
      "Removing intermediate container 3b4b460bb89e\n",
      " ---> 21d3010c4626\n",
      "Successfully built 21d3010c4626\n",
      "Successfully tagged flaskhelloworld:latest\n"
     ]
    }
   ],
   "source": [
    "%%bash\n",
    "docker build -t flaskhelloworld:latest ./Docker_Flask"
   ]
  },
  {
   "cell_type": "markdown",
   "metadata": {},
   "source": [
    "Here,\n",
    "\n",
    "-t = This \"t\" flag is used for tagging docker image.\n",
    "\n",
    "\n",
    "flaskhelloworld = Is the docker image name.\n",
    "\n",
    "latest = Image Tag.\n",
    " \n",
    "./Docker_Flask = Docker_Flask directory (In this directory there is DockerFile)."
   ]
  },
  {
   "cell_type": "code",
   "execution_count": 27,
   "metadata": {},
   "outputs": [
    {
     "name": "stdout",
     "output_type": "stream",
     "text": [
      "REPOSITORY          TAG                 IMAGE ID            CREATED              SIZE\n",
      "flaskhelloworld     latest              e73782df5844        3 seconds ago        516MB\n",
      "<none>              <none>              eaabf12c207c        About a minute ago   516MB\n",
      "<none>              <none>              1a09ce7536d0        10 minutes ago       516MB\n",
      "<none>              <none>              a617c03de8bf        About an hour ago    516MB\n",
      "ubuntu              18.04               d27b9ffc5667        12 days ago          64.2MB\n"
     ]
    }
   ],
   "source": [
    "%%bash\n",
    "docker images"
   ]
  },
  {
   "cell_type": "markdown",
   "metadata": {},
   "source": [
    "Now we will ssh into this `flaskhelloworld` container from our terminal.\n",
    "\n",
    "<b>$ docker run -it -d -p 1000:5000 flaskhelloworld</b>\n",
    "\n",
    "Here,\n",
    "\n",
    "-it = Means run container in interactive mode.\n",
    "\n",
    "-d = Means we want to run this container in deamon mode.\n",
    "\n",
    "-p = This means we want to expose a port t outside world.\n",
    "\n",
    "1000 = We can access this port from outside world.\n",
    "\n",
    "5000 = As flsk development server run on port 5000.\n",
    "\n",
    "flaskhelloworld = Name of the image."
   ]
  },
  {
   "cell_type": "markdown",
   "metadata": {},
   "source": [
    "### List of currently running container:"
   ]
  },
  {
   "cell_type": "code",
   "execution_count": 43,
   "metadata": {},
   "outputs": [
    {
     "name": "stdout",
     "output_type": "stream",
     "text": [
      "CONTAINER ID        IMAGE               COMMAND             CREATED             STATUS              PORTS                    NAMES\n",
      "30d3172d6ec9        flaskhelloworld     \"python3 run.py\"    25 minutes ago      Up 25 minutes       0.0.0.0:1000->5000/tcp   mystifying_galileo\n"
     ]
    }
   ],
   "source": [
    "%%bash\n",
    "docker ps"
   ]
  },
  {
   "cell_type": "markdown",
   "metadata": {},
   "source": [
    "### Stop running container:"
   ]
  },
  {
   "cell_type": "code",
   "execution_count": 44,
   "metadata": {},
   "outputs": [
    {
     "name": "stdout",
     "output_type": "stream",
     "text": [
      "30d3172d6ec9\n"
     ]
    }
   ],
   "source": [
    "%%bash\n",
    "docker stop 30d3172d6ec9"
   ]
  },
  {
   "cell_type": "markdown",
   "metadata": {},
   "source": [
    "<b>$ </b>"
   ]
  }
 ],
 "metadata": {
  "kernelspec": {
   "display_name": "Python 3",
   "language": "python",
   "name": "python3"
  },
  "language_info": {
   "codemirror_mode": {
    "name": "ipython",
    "version": 3
   },
   "file_extension": ".py",
   "mimetype": "text/x-python",
   "name": "python",
   "nbconvert_exporter": "python",
   "pygments_lexer": "ipython3",
   "version": "3.7.4"
  }
 },
 "nbformat": 4,
 "nbformat_minor": 2
}
